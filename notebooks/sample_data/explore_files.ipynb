{
 "cells": [
  {
   "cell_type": "markdown",
   "metadata": {},
   "source": [
    "# Advanced analytics: File exploration"
   ]
  },
  {
   "cell_type": "code",
   "execution_count": 1,
   "metadata": {},
   "outputs": [
    {
     "data": {
      "text/plain": [
       "polars.config.Config"
      ]
     },
     "execution_count": 1,
     "metadata": {},
     "output_type": "execute_result"
    }
   ],
   "source": [
    "import polars as pl\n",
    "\n",
    "from data import data # Root folder should be configured as \"pythontraining\"\n",
    "\n",
    "\n",
    "pl.Config.set_fmt_str_lengths(100)"
   ]
  },
  {
   "cell_type": "code",
   "execution_count": 3,
   "metadata": {},
   "outputs": [],
   "source": [
    "gtfs_sample = data.path / \"sample_full_greater_sydney\""
   ]
  },
  {
   "cell_type": "code",
   "execution_count": 4,
   "metadata": {},
   "outputs": [
    {
     "data": {
      "text/html": [
       "<div><style>\n",
       ".dataframe > thead > tr > th,\n",
       ".dataframe > tbody > tr > td {\n",
       "  text-align: right;\n",
       "}\n",
       "</style>\n",
       "<small>shape: (5, 6)</small><table border=\"1\" class=\"dataframe\"><thead><tr><th>agency_id</th><th>agency_name</th><th>agency_url</th><th>agency_timezone</th><th>agency_lang</th><th>agency_phone</th></tr><tr><td>str</td><td>str</td><td>str</td><td>str</td><td>str</td><td>i64</td></tr></thead><tbody><tr><td>&quot;B031&quot;</td><td>&quot;Priors Bus Service&quot;</td><td>&quot;http://transportnsw.info&quot;</td><td>&quot;Australia/Sydney&quot;</td><td>&quot;EN&quot;</td><td>131500</td></tr><tr><td>&quot;2453&quot;</td><td>&quot;Red Bus Service&quot;</td><td>&quot;http://transportnsw.info&quot;</td><td>&quot;Australia/Sydney&quot;</td><td>&quot;EN&quot;</td><td>131500</td></tr><tr><td>&quot;2443&quot;</td><td>&quot;Transdev NSW&quot;</td><td>&quot;http://transportnsw.info&quot;</td><td>&quot;Australia/Sydney&quot;</td><td>&quot;EN&quot;</td><td>131500</td></tr><tr><td>&quot;B081&quot;</td><td>&quot;PBC Crookwell&quot;</td><td>&quot;http://transportnsw.info&quot;</td><td>&quot;Australia/Sydney&quot;</td><td>&quot;EN&quot;</td><td>131500</td></tr><tr><td>&quot;B077&quot;</td><td>&quot;Transborder Express &quot;</td><td>&quot;http://transportnsw.info&quot;</td><td>&quot;Australia/Sydney&quot;</td><td>&quot;EN&quot;</td><td>131500</td></tr></tbody></table></div>"
      ],
      "text/plain": [
       "shape: (5, 6)\n",
       "┌───────────┬───────────────────┬──────────────────┬──────────────────┬─────────────┬──────────────┐\n",
       "│ agency_id ┆ agency_name       ┆ agency_url       ┆ agency_timezone  ┆ agency_lang ┆ agency_phone │\n",
       "│ ---       ┆ ---               ┆ ---              ┆ ---              ┆ ---         ┆ ---          │\n",
       "│ str       ┆ str               ┆ str              ┆ str              ┆ str         ┆ i64          │\n",
       "╞═══════════╪═══════════════════╪══════════════════╪══════════════════╪═════════════╪══════════════╡\n",
       "│ B031      ┆ Priors Bus        ┆ http://transport ┆ Australia/Sydney ┆ EN          ┆ 131500       │\n",
       "│           ┆ Service           ┆ nsw.info         ┆                  ┆             ┆              │\n",
       "│ 2453      ┆ Red Bus Service   ┆ http://transport ┆ Australia/Sydney ┆ EN          ┆ 131500       │\n",
       "│           ┆                   ┆ nsw.info         ┆                  ┆             ┆              │\n",
       "│ 2443      ┆ Transdev NSW      ┆ http://transport ┆ Australia/Sydney ┆ EN          ┆ 131500       │\n",
       "│           ┆                   ┆ nsw.info         ┆                  ┆             ┆              │\n",
       "│ B081      ┆ PBC Crookwell     ┆ http://transport ┆ Australia/Sydney ┆ EN          ┆ 131500       │\n",
       "│           ┆                   ┆ nsw.info         ┆                  ┆             ┆              │\n",
       "│ B077      ┆ Transborder       ┆ http://transport ┆ Australia/Sydney ┆ EN          ┆ 131500       │\n",
       "│           ┆ Express           ┆ nsw.info         ┆                  ┆             ┆              │\n",
       "└───────────┴───────────────────┴──────────────────┴──────────────────┴─────────────┴──────────────┘"
      ]
     },
     "execution_count": 4,
     "metadata": {},
     "output_type": "execute_result"
    }
   ],
   "source": [
    "pl.read_csv(gtfs_sample / \"agency.txt\").sample(5)"
   ]
  },
  {
   "cell_type": "code",
   "execution_count": 5,
   "metadata": {},
   "outputs": [
    {
     "data": {
      "text/html": [
       "<div><style>\n",
       ".dataframe > thead > tr > th,\n",
       ".dataframe > tbody > tr > td {\n",
       "  text-align: right;\n",
       "}\n",
       "</style>\n",
       "<small>shape: (5, 3)</small><table border=\"1\" class=\"dataframe\"><thead><tr><th>service_id</th><th>date</th><th>exception_type</th></tr><tr><td>str</td><td>i64</td><td>i64</td></tr></thead><tbody><tr><td>&quot;TA+r3155+33&quot;</td><td>20190820</td><td>2</td></tr><tr><td>&quot;TA+r1492+11&quot;</td><td>20190810</td><td>2</td></tr><tr><td>&quot;TA+r1454#1+6&quot;</td><td>20190804</td><td>2</td></tr><tr><td>&quot;AB51#4+16&quot;</td><td>20190610</td><td>1</td></tr><tr><td>&quot;TA+r3277+33&quot;</td><td>20190622</td><td>2</td></tr></tbody></table></div>"
      ],
      "text/plain": [
       "shape: (5, 3)\n",
       "┌──────────────┬──────────┬────────────────┐\n",
       "│ service_id   ┆ date     ┆ exception_type │\n",
       "│ ---          ┆ ---      ┆ ---            │\n",
       "│ str          ┆ i64      ┆ i64            │\n",
       "╞══════════════╪══════════╪════════════════╡\n",
       "│ TA+r3155+33  ┆ 20190820 ┆ 2              │\n",
       "│ TA+r1492+11  ┆ 20190810 ┆ 2              │\n",
       "│ TA+r1454#1+6 ┆ 20190804 ┆ 2              │\n",
       "│ AB51#4+16    ┆ 20190610 ┆ 1              │\n",
       "│ TA+r3277+33  ┆ 20190622 ┆ 2              │\n",
       "└──────────────┴──────────┴────────────────┘"
      ]
     },
     "execution_count": 5,
     "metadata": {},
     "output_type": "execute_result"
    }
   ],
   "source": [
    "pl.read_csv(gtfs_sample / \"calendar_dates.txt\").sample(5)"
   ]
  },
  {
   "cell_type": "code",
   "execution_count": 6,
   "metadata": {},
   "outputs": [
    {
     "data": {
      "text/html": [
       "<div><style>\n",
       ".dataframe > thead > tr > th,\n",
       ".dataframe > tbody > tr > td {\n",
       "  text-align: right;\n",
       "}\n",
       "</style>\n",
       "<small>shape: (5, 10)</small><table border=\"1\" class=\"dataframe\"><thead><tr><th>service_id</th><th>monday</th><th>tuesday</th><th>wednesday</th><th>thursday</th><th>friday</th><th>saturday</th><th>sunday</th><th>start_date</th><th>end_date</th></tr><tr><td>str</td><td>i64</td><td>i64</td><td>i64</td><td>i64</td><td>i64</td><td>i64</td><td>i64</td><td>i64</td><td>i64</td></tr></thead><tbody><tr><td>&quot;TA+r1935+34&quot;</td><td>1</td><td>1</td><td>1</td><td>1</td><td>1</td><td>0</td><td>0</td><td>20190607</td><td>20190905</td></tr><tr><td>&quot;TA+r1685+34&quot;</td><td>1</td><td>1</td><td>1</td><td>1</td><td>1</td><td>0</td><td>0</td><td>20190607</td><td>20190905</td></tr><tr><td>&quot;TA+r1044+3&quot;</td><td>1</td><td>1</td><td>1</td><td>1</td><td>0</td><td>0</td><td>0</td><td>20190607</td><td>20190905</td></tr><tr><td>&quot;TA+r1970+34&quot;</td><td>1</td><td>1</td><td>1</td><td>1</td><td>1</td><td>0</td><td>0</td><td>20190607</td><td>20190905</td></tr><tr><td>&quot;TA+r1817+34&quot;</td><td>1</td><td>1</td><td>1</td><td>1</td><td>1</td><td>0</td><td>0</td><td>20190607</td><td>20190905</td></tr></tbody></table></div>"
      ],
      "text/plain": [
       "shape: (5, 10)\n",
       "┌─────────────┬────────┬─────────┬───────────┬───┬──────────┬────────┬────────────┬──────────┐\n",
       "│ service_id  ┆ monday ┆ tuesday ┆ wednesday ┆ … ┆ saturday ┆ sunday ┆ start_date ┆ end_date │\n",
       "│ ---         ┆ ---    ┆ ---     ┆ ---       ┆   ┆ ---      ┆ ---    ┆ ---        ┆ ---      │\n",
       "│ str         ┆ i64    ┆ i64     ┆ i64       ┆   ┆ i64      ┆ i64    ┆ i64        ┆ i64      │\n",
       "╞═════════════╪════════╪═════════╪═══════════╪═══╪══════════╪════════╪════════════╪══════════╡\n",
       "│ TA+r1935+34 ┆ 1      ┆ 1       ┆ 1         ┆ … ┆ 0        ┆ 0      ┆ 20190607   ┆ 20190905 │\n",
       "│ TA+r1685+34 ┆ 1      ┆ 1       ┆ 1         ┆ … ┆ 0        ┆ 0      ┆ 20190607   ┆ 20190905 │\n",
       "│ TA+r1044+3  ┆ 1      ┆ 1       ┆ 1         ┆ … ┆ 0        ┆ 0      ┆ 20190607   ┆ 20190905 │\n",
       "│ TA+r1970+34 ┆ 1      ┆ 1       ┆ 1         ┆ … ┆ 0        ┆ 0      ┆ 20190607   ┆ 20190905 │\n",
       "│ TA+r1817+34 ┆ 1      ┆ 1       ┆ 1         ┆ … ┆ 0        ┆ 0      ┆ 20190607   ┆ 20190905 │\n",
       "└─────────────┴────────┴─────────┴───────────┴───┴──────────┴────────┴────────────┴──────────┘"
      ]
     },
     "execution_count": 6,
     "metadata": {},
     "output_type": "execute_result"
    }
   ],
   "source": [
    "pl.read_csv(gtfs_sample / \"calendar.txt\").sample(5)"
   ]
  },
  {
   "cell_type": "code",
   "execution_count": 7,
   "metadata": {},
   "outputs": [
    {
     "data": {
      "text/html": [
       "<div><style>\n",
       ".dataframe > thead > tr > th,\n",
       ".dataframe > tbody > tr > td {\n",
       "  text-align: right;\n",
       "}\n",
       "</style>\n",
       "<small>shape: (5, 2)</small><table border=\"1\" class=\"dataframe\"><thead><tr><th>note_id</th><th>note_text</th></tr><tr><td>str</td><td>str</td></tr></thead><tbody><tr><td>&quot;1011&quot;</td><td>&quot;U:Terminates at Unanderra Shops&quot;</td></tr><tr><td>&quot;XS137&quot;</td><td>&quot;Bus operates to Church St on request.  Transfer at Church St for service to  South East Regional Ho…</td></tr><tr><td>&quot;626&quot;</td><td>&quot;Bus operates via Kariong Loop&quot;</td></tr><tr><td>&quot;XS149&quot;</td><td>&quot;Change buses at Callala Bay School for services to Callala Bay or Currarong.&quot;</td></tr><tr><td>&quot;674&quot;</td><td>&quot;Public school days bus diverts via Davistown Rd, High St &amp; Mimosa Av to Village Rd, omitting Jirram…</td></tr></tbody></table></div>"
      ],
      "text/plain": [
       "shape: (5, 2)\n",
       "┌─────────┬─────────────────────────────────────────────────────────────────────────────────────┐\n",
       "│ note_id ┆ note_text                                                                           │\n",
       "│ ---     ┆ ---                                                                                 │\n",
       "│ str     ┆ str                                                                                 │\n",
       "╞═════════╪═════════════════════════════════════════════════════════════════════════════════════╡\n",
       "│ 1011    ┆ U:Terminates at Unanderra Shops                                                     │\n",
       "│ XS137   ┆ Bus operates to Church St on request.  Transfer at Church St for service to  South  │\n",
       "│         ┆ East Regional Hos…                                                                  │\n",
       "│ 626     ┆ Bus operates via Kariong Loop                                                       │\n",
       "│ XS149   ┆ Change buses at Callala Bay School for services to Callala Bay or Currarong.        │\n",
       "│ 674     ┆ Public school days bus diverts via Davistown Rd, High St & Mimosa Av to Village Rd, │\n",
       "│         ┆ omitting Jirramb…                                                                   │\n",
       "└─────────┴─────────────────────────────────────────────────────────────────────────────────────┘"
      ]
     },
     "execution_count": 7,
     "metadata": {},
     "output_type": "execute_result"
    }
   ],
   "source": [
    "pl.read_csv(gtfs_sample / \"notes.txt\", dtypes={\n",
    "    'note_id': pl.Utf8\n",
    "}).sample(5)"
   ]
  },
  {
   "cell_type": "code",
   "execution_count": 8,
   "metadata": {},
   "outputs": [
    {
     "data": {
      "text/html": [
       "<div><style>\n",
       ".dataframe > thead > tr > th,\n",
       ".dataframe > tbody > tr > td {\n",
       "  text-align: right;\n",
       "}\n",
       "</style>\n",
       "<small>shape: (5, 9)</small><table border=\"1\" class=\"dataframe\"><thead><tr><th>route_id</th><th>agency_id</th><th>route_short_name</th><th>route_long_name</th><th>route_desc</th><th>route_type</th><th>route_color</th><th>route_text_color</th><th>exact_times</th></tr><tr><td>str</td><td>str</td><td>str</td><td>str</td><td>str</td><td>i64</td><td>str</td><td>str</td><td>i64</td></tr></thead><tbody><tr><td>&quot;46-183-sj2-1&quot;</td><td>&quot;2448&quot;</td><td>&quot;183&quot;</td><td>&quot;Rutherford to Tenambit via Maitland and Stockland Green Hills&quot;</td><td>&quot;Hunter Buses Network&quot;</td><td>700</td><td>&quot;00B5EF&quot;</td><td>&quot;FFFFFF&quot;</td><td>1</td></tr><tr><td>&quot;28-145-sj2-1&quot;</td><td>&quot;2440&quot;</td><td>&quot;145&quot;</td><td>&quot;PrePay-Only - Warringah Mall to Seaforth&quot;</td><td>&quot;Sydney Buses Network&quot;</td><td>700</td><td>&quot;00B5EF&quot;</td><td>&quot;FFFFFF&quot;</td><td>1</td></tr><tr><td>&quot;31-343-sj2-1&quot;</td><td>&quot;2441&quot;</td><td>&quot;343&quot;</td><td>&quot;PrePay-Only - Kingsford to Chatswood&quot;</td><td>&quot;Sydney Buses Network&quot;</td><td>700</td><td>&quot;00B5EF&quot;</td><td>&quot;FFFFFF&quot;</td><td>1</td></tr><tr><td>&quot;67-S22-8-sj2-1&quot;</td><td>&quot;2456&quot;</td><td>&quot;S228&quot;</td><td>&quot;Bong Bong Rd opp Parkdale Ave to St Johns PS&quot;</td><td>&quot;School buses&quot;</td><td>712</td><td>&quot;00B5EF&quot;</td><td>&quot;FFFFFF&quot;</td><td>1</td></tr><tr><td>&quot;20-464-3-sj2-1&quot;</td><td>&quot;2433&quot;</td><td>&quot;4643&quot;</td><td>&quot;Chifley College Dunheved Campus to Mt Druitt Station&quot;</td><td>&quot;School buses&quot;</td><td>712</td><td>&quot;00B5EF&quot;</td><td>&quot;FFFFFF&quot;</td><td>1</td></tr></tbody></table></div>"
      ],
      "text/plain": [
       "shape: (5, 9)\n",
       "┌───────────┬───────────┬───────────┬───────────┬───┬───────────┬───────────┬───────────┬──────────┐\n",
       "│ route_id  ┆ agency_id ┆ route_sho ┆ route_lon ┆ … ┆ route_typ ┆ route_col ┆ route_tex ┆ exact_ti │\n",
       "│ ---       ┆ ---       ┆ rt_name   ┆ g_name    ┆   ┆ e         ┆ or        ┆ t_color   ┆ mes      │\n",
       "│ str       ┆ str       ┆ ---       ┆ ---       ┆   ┆ ---       ┆ ---       ┆ ---       ┆ ---      │\n",
       "│           ┆           ┆ str       ┆ str       ┆   ┆ i64       ┆ str       ┆ str       ┆ i64      │\n",
       "╞═══════════╪═══════════╪═══════════╪═══════════╪═══╪═══════════╪═══════════╪═══════════╪══════════╡\n",
       "│ 46-183-sj ┆ 2448      ┆ 183       ┆ Rutherfor ┆ … ┆ 700       ┆ 00B5EF    ┆ FFFFFF    ┆ 1        │\n",
       "│ 2-1       ┆           ┆           ┆ d to      ┆   ┆           ┆           ┆           ┆          │\n",
       "│           ┆           ┆           ┆ Tenambit  ┆   ┆           ┆           ┆           ┆          │\n",
       "│           ┆           ┆           ┆ via       ┆   ┆           ┆           ┆           ┆          │\n",
       "│           ┆           ┆           ┆ Maitland  ┆   ┆           ┆           ┆           ┆          │\n",
       "│           ┆           ┆           ┆ and       ┆   ┆           ┆           ┆           ┆          │\n",
       "│           ┆           ┆           ┆ Stockland ┆   ┆           ┆           ┆           ┆          │\n",
       "│           ┆           ┆           ┆ Green     ┆   ┆           ┆           ┆           ┆          │\n",
       "│           ┆           ┆           ┆ Hills     ┆   ┆           ┆           ┆           ┆          │\n",
       "│ 28-145-sj ┆ 2440      ┆ 145       ┆ PrePay-On ┆ … ┆ 700       ┆ 00B5EF    ┆ FFFFFF    ┆ 1        │\n",
       "│ 2-1       ┆           ┆           ┆ ly -      ┆   ┆           ┆           ┆           ┆          │\n",
       "│           ┆           ┆           ┆ Warringah ┆   ┆           ┆           ┆           ┆          │\n",
       "│           ┆           ┆           ┆ Mall to   ┆   ┆           ┆           ┆           ┆          │\n",
       "│           ┆           ┆           ┆ Seaforth  ┆   ┆           ┆           ┆           ┆          │\n",
       "│ 31-343-sj ┆ 2441      ┆ 343       ┆ PrePay-On ┆ … ┆ 700       ┆ 00B5EF    ┆ FFFFFF    ┆ 1        │\n",
       "│ 2-1       ┆           ┆           ┆ ly -      ┆   ┆           ┆           ┆           ┆          │\n",
       "│           ┆           ┆           ┆ Kingsford ┆   ┆           ┆           ┆           ┆          │\n",
       "│           ┆           ┆           ┆ to        ┆   ┆           ┆           ┆           ┆          │\n",
       "│           ┆           ┆           ┆ Chatswood ┆   ┆           ┆           ┆           ┆          │\n",
       "│ 67-S22-8- ┆ 2456      ┆ S228      ┆ Bong Bong ┆ … ┆ 712       ┆ 00B5EF    ┆ FFFFFF    ┆ 1        │\n",
       "│ sj2-1     ┆           ┆           ┆ Rd opp    ┆   ┆           ┆           ┆           ┆          │\n",
       "│           ┆           ┆           ┆ Parkdale  ┆   ┆           ┆           ┆           ┆          │\n",
       "│           ┆           ┆           ┆ Ave to St ┆   ┆           ┆           ┆           ┆          │\n",
       "│           ┆           ┆           ┆ Johns PS  ┆   ┆           ┆           ┆           ┆          │\n",
       "│ 20-464-3- ┆ 2433      ┆ 4643      ┆ Chifley   ┆ … ┆ 712       ┆ 00B5EF    ┆ FFFFFF    ┆ 1        │\n",
       "│ sj2-1     ┆           ┆           ┆ College   ┆   ┆           ┆           ┆           ┆          │\n",
       "│           ┆           ┆           ┆ Dunheved  ┆   ┆           ┆           ┆           ┆          │\n",
       "│           ┆           ┆           ┆ Campus to ┆   ┆           ┆           ┆           ┆          │\n",
       "│           ┆           ┆           ┆ Mt Druitt ┆   ┆           ┆           ┆           ┆          │\n",
       "│           ┆           ┆           ┆ Station   ┆   ┆           ┆           ┆           ┆          │\n",
       "└───────────┴───────────┴───────────┴───────────┴───┴───────────┴───────────┴───────────┴──────────┘"
      ]
     },
     "execution_count": 8,
     "metadata": {},
     "output_type": "execute_result"
    }
   ],
   "source": [
    "pl.read_csv(gtfs_sample / \"routes.txt\").sample(5)"
   ]
  },
  {
   "cell_type": "code",
   "execution_count": 7,
   "metadata": {},
   "outputs": [
    {
     "data": {
      "text/html": [
       "<div><style>\n",
       ".dataframe > thead > tr > th,\n",
       ".dataframe > tbody > tr > td {\n",
       "  text-align: right;\n",
       "}\n",
       "</style>\n",
       "<small>shape: (5, 5)</small><table border=\"1\" class=\"dataframe\"><thead><tr><th>shape_id</th><th>shape_pt_lat</th><th>shape_pt_lon</th><th>shape_pt_sequence</th><th>shape_dist_traveled</th></tr><tr><td>str</td><td>f64</td><td>f64</td><td>i64</td><td>f64</td></tr></thead><tbody><tr><td>&quot;8-764-sj2-1.9.H&quot;</td><td>-36.215976</td><td>150.129952</td><td>345</td><td>128368.272763</td></tr><tr><td>&quot;2-SCO-sj2-31.45.H&quot;</td><td>-34.217856</td><td>150.994976</td><td>290</td><td>150447.668432</td></tr><tr><td>&quot;2-T8-sj2-31.11.R&quot;</td><td>-33.936916</td><td>151.115584</td><td>364</td><td>379385.010334</td></tr><tr><td>&quot;6-653-sj2-1.1.H&quot;</td><td>-28.803128</td><td>153.279872</td><td>377</td><td>218239.22046</td></tr><tr><td>&quot;2-CCN-sj2-31.147.H&quot;</td><td>-33.11177</td><td>151.484208</td><td>1911</td><td>1.1989e6</td></tr></tbody></table></div>"
      ],
      "text/plain": [
       "shape: (5, 5)\n",
       "┌────────────────────┬──────────────┬──────────────┬───────────────────┬─────────────────────┐\n",
       "│ shape_id           ┆ shape_pt_lat ┆ shape_pt_lon ┆ shape_pt_sequence ┆ shape_dist_traveled │\n",
       "│ ---                ┆ ---          ┆ ---          ┆ ---               ┆ ---                 │\n",
       "│ str                ┆ f64          ┆ f64          ┆ i64               ┆ f64                 │\n",
       "╞════════════════════╪══════════════╪══════════════╪═══════════════════╪═════════════════════╡\n",
       "│ 8-764-sj2-1.9.H    ┆ -36.215976   ┆ 150.129952   ┆ 345               ┆ 128368.272763       │\n",
       "│ 2-SCO-sj2-31.45.H  ┆ -34.217856   ┆ 150.994976   ┆ 290               ┆ 150447.668432       │\n",
       "│ 2-T8-sj2-31.11.R   ┆ -33.936916   ┆ 151.115584   ┆ 364               ┆ 379385.010334       │\n",
       "│ 6-653-sj2-1.1.H    ┆ -28.803128   ┆ 153.279872   ┆ 377               ┆ 218239.22046        │\n",
       "│ 2-CCN-sj2-31.147.H ┆ -33.11177    ┆ 151.484208   ┆ 1911              ┆ 1.1989e6            │\n",
       "└────────────────────┴──────────────┴──────────────┴───────────────────┴─────────────────────┘"
      ]
     },
     "execution_count": 7,
     "metadata": {},
     "output_type": "execute_result"
    }
   ],
   "source": [
    "pl.read_csv(data.path / \"shapes.txt\").sample(5)\n",
    "# Takes 0.3s in polars, 2.6s in pandas"
   ]
  },
  {
   "cell_type": "code",
   "execution_count": 8,
   "metadata": {},
   "outputs": [
    {
     "data": {
      "text/html": [
       "<div><style>\n",
       ".dataframe > thead > tr > th,\n",
       ".dataframe > tbody > tr > td {\n",
       "  text-align: right;\n",
       "}\n",
       "</style>\n",
       "<small>shape: (4_101_821, 11)</small><table border=\"1\" class=\"dataframe\"><thead><tr><th>trip_id</th><th>arrival_time</th><th>departure_time</th><th>stop_id</th><th>stop_sequence</th><th>stop_headsign</th><th>pickup_type</th><th>drop_off_type</th><th>shape_dist_traveled</th><th>timepoint</th><th>stop_note</th></tr><tr><td>str</td><td>str</td><td>str</td><td>str</td><td>i64</td><td>str</td><td>i64</td><td>i64</td><td>f64</td><td>i64</td><td>str</td></tr></thead><tbody><tr><td>&quot;1.AA51.1-SC0-1-sj2-2.1.R&quot;</td><td>&quot;22:50:00&quot;</td><td>&quot;22:50:00&quot;</td><td>&quot;254111&quot;</td><td>1</td><td>&quot;&quot;</td><td>0</td><td>0</td><td>0.0</td><td>1</td><td>&quot;&quot;</td></tr><tr><td>&quot;1.AA51.1-SC0-1-sj2-2.1.R&quot;</td><td>&quot;23:04:00&quot;</td><td>&quot;23:04:00&quot;</td><td>&quot;253572&quot;</td><td>2</td><td>&quot;&quot;</td><td>0</td><td>0</td><td>264719.764225</td><td>1</td><td>&quot;&quot;</td></tr><tr><td>&quot;1.AA51.1-SC0-1-sj2-2.1.R&quot;</td><td>&quot;23:20:00&quot;</td><td>&quot;23:20:00&quot;</td><td>&quot;253476&quot;</td><td>3</td><td>&quot;&quot;</td><td>0</td><td>0</td><td>443868.903764</td><td>1</td><td>&quot;&quot;</td></tr><tr><td>&quot;1.AA51.1-SC0-1-sj2-2.1.R&quot;</td><td>&quot;23:30:00&quot;</td><td>&quot;23:30:00&quot;</td><td>&quot;253332&quot;</td><td>4</td><td>&quot;&quot;</td><td>0</td><td>0</td><td>548894.491353</td><td>1</td><td>&quot;&quot;</td></tr><tr><td>&quot;2.AB51.1-SC0-1-sj2-2.1.R&quot;</td><td>&quot;23:20:00&quot;</td><td>&quot;23:20:00&quot;</td><td>&quot;254111&quot;</td><td>1</td><td>&quot;&quot;</td><td>0</td><td>0</td><td>0.0</td><td>1</td><td>&quot;&quot;</td></tr><tr><td>&quot;2.AB51.1-SC0-1-sj2-2.1.R&quot;</td><td>&quot;23:34:00&quot;</td><td>&quot;23:34:00&quot;</td><td>&quot;253572&quot;</td><td>2</td><td>&quot;&quot;</td><td>0</td><td>0</td><td>264719.764225</td><td>1</td><td>&quot;&quot;</td></tr><tr><td>&quot;2.AB51.1-SC0-1-sj2-2.1.R&quot;</td><td>&quot;23:50:00&quot;</td><td>&quot;23:50:00&quot;</td><td>&quot;253476&quot;</td><td>3</td><td>&quot;&quot;</td><td>0</td><td>0</td><td>443868.903764</td><td>1</td><td>&quot;&quot;</td></tr><tr><td>&quot;2.AB51.1-SC0-1-sj2-2.1.R&quot;</td><td>&quot;24:00:00&quot;</td><td>&quot;24:00:00&quot;</td><td>&quot;253332&quot;</td><td>4</td><td>&quot;&quot;</td><td>0</td><td>0</td><td>548894.491353</td><td>1</td><td>&quot;&quot;</td></tr><tr><td>&quot;3.AA51.1-SC0-1-sj2-2.1.R&quot;</td><td>&quot;24:53:00&quot;</td><td>&quot;24:53:00&quot;</td><td>&quot;254111&quot;</td><td>1</td><td>&quot;&quot;</td><td>0</td><td>0</td><td>0.0</td><td>1</td><td>&quot;&quot;</td></tr><tr><td>&quot;3.AA51.1-SC0-1-sj2-2.1.R&quot;</td><td>&quot;25:07:00&quot;</td><td>&quot;25:07:00&quot;</td><td>&quot;253572&quot;</td><td>2</td><td>&quot;&quot;</td><td>0</td><td>0</td><td>264719.764225</td><td>1</td><td>&quot;&quot;</td></tr><tr><td>&quot;3.AA51.1-SC0-1-sj2-2.1.R&quot;</td><td>&quot;25:23:00&quot;</td><td>&quot;25:23:00&quot;</td><td>&quot;253476&quot;</td><td>3</td><td>&quot;&quot;</td><td>0</td><td>0</td><td>443868.903764</td><td>1</td><td>&quot;&quot;</td></tr><tr><td>&quot;3.AA51.1-SC0-1-sj2-2.1.R&quot;</td><td>&quot;25:33:00&quot;</td><td>&quot;25:33:00&quot;</td><td>&quot;253332&quot;</td><td>4</td><td>&quot;&quot;</td><td>0</td><td>0</td><td>548894.491353</td><td>1</td><td>&quot;&quot;</td></tr><tr><td>&hellip;</td><td>&hellip;</td><td>&hellip;</td><td>&hellip;</td><td>&hellip;</td><td>&hellip;</td><td>&hellip;</td><td>&hellip;</td><td>&hellip;</td><td>&hellip;</td><td>&hellip;</td></tr><tr><td>&quot;43.AA51.9-F7-sj2-1.1.H&quot;</td><td>&quot;22:14:00&quot;</td><td>&quot;22:14:00&quot;</td><td>&quot;20281&quot;</td><td>3</td><td>&quot;&quot;</td><td>0</td><td>0</td><td>45591.972755</td><td>1</td><td>&quot;&quot;</td></tr><tr><td>&quot;44.AA51.9-F7-sj2-1.1.H&quot;</td><td>&quot;22:57:00&quot;</td><td>&quot;22:57:00&quot;</td><td>&quot;20005&quot;</td><td>1</td><td>&quot;&quot;</td><td>0</td><td>0</td><td>0.0</td><td>1</td><td>&quot;&quot;</td></tr><tr><td>&quot;44.AA51.9-F7-sj2-1.1.H&quot;</td><td>&quot;23:09:00&quot;</td><td>&quot;23:09:00&quot;</td><td>&quot;20271&quot;</td><td>2</td><td>&quot;&quot;</td><td>0</td><td>0</td><td>35565.021485</td><td>1</td><td>&quot;&quot;</td></tr><tr><td>&quot;44.AA51.9-F7-sj2-1.1.H&quot;</td><td>&quot;23:14:00&quot;</td><td>&quot;23:14:00&quot;</td><td>&quot;20281&quot;</td><td>3</td><td>&quot;&quot;</td><td>0</td><td>0</td><td>45591.972755</td><td>1</td><td>&quot;&quot;</td></tr><tr><td>&quot;23.AA51.9-F7-sj2-1.8.H&quot;</td><td>&quot;06:27:00&quot;</td><td>&quot;06:27:00&quot;</td><td>&quot;20005&quot;</td><td>1</td><td>&quot;&quot;</td><td>0</td><td>0</td><td>0.0</td><td>1</td><td>&quot;&quot;</td></tr><tr><td>&quot;23.AA51.9-F7-sj2-1.8.H&quot;</td><td>&quot;06:42:00&quot;</td><td>&quot;06:42:00&quot;</td><td>&quot;20281&quot;</td><td>2</td><td>&quot;&quot;</td><td>0</td><td>0</td><td>44739.097839</td><td>1</td><td>&quot;&quot;</td></tr><tr><td>&quot;24.AA51.9-F7-sj2-1.8.H&quot;</td><td>&quot;06:57:00&quot;</td><td>&quot;06:57:00&quot;</td><td>&quot;20005&quot;</td><td>1</td><td>&quot;&quot;</td><td>0</td><td>0</td><td>0.0</td><td>1</td><td>&quot;&quot;</td></tr><tr><td>&quot;24.AA51.9-F7-sj2-1.8.H&quot;</td><td>&quot;07:12:00&quot;</td><td>&quot;07:12:00&quot;</td><td>&quot;20281&quot;</td><td>2</td><td>&quot;&quot;</td><td>0</td><td>0</td><td>44739.097839</td><td>1</td><td>&quot;&quot;</td></tr><tr><td>&quot;26.AA51.9-F7-sj2-1.8.H&quot;</td><td>&quot;07:57:00&quot;</td><td>&quot;07:57:00&quot;</td><td>&quot;20005&quot;</td><td>1</td><td>&quot;&quot;</td><td>0</td><td>0</td><td>0.0</td><td>1</td><td>&quot;&quot;</td></tr><tr><td>&quot;26.AA51.9-F7-sj2-1.8.H&quot;</td><td>&quot;08:12:00&quot;</td><td>&quot;08:12:00&quot;</td><td>&quot;20281&quot;</td><td>2</td><td>&quot;&quot;</td><td>0</td><td>0</td><td>44739.097839</td><td>1</td><td>&quot;&quot;</td></tr><tr><td>&quot;28.AA51.9-F7-sj2-1.8.H&quot;</td><td>&quot;08:57:00&quot;</td><td>&quot;08:57:00&quot;</td><td>&quot;20005&quot;</td><td>1</td><td>&quot;&quot;</td><td>0</td><td>0</td><td>0.0</td><td>1</td><td>&quot;&quot;</td></tr><tr><td>&quot;28.AA51.9-F7-sj2-1.8.H&quot;</td><td>&quot;09:13:00&quot;</td><td>&quot;09:13:00&quot;</td><td>&quot;20281&quot;</td><td>2</td><td>&quot;&quot;</td><td>0</td><td>0</td><td>44739.097839</td><td>1</td><td>&quot;&quot;</td></tr></tbody></table></div>"
      ],
      "text/plain": [
       "shape: (4_101_821, 11)\n",
       "┌────────────┬───────────┬───────────┬─────────┬───┬───────────┬───────────┬───────────┬───────────┐\n",
       "│ trip_id    ┆ arrival_t ┆ departure ┆ stop_id ┆ … ┆ drop_off_ ┆ shape_dis ┆ timepoint ┆ stop_note │\n",
       "│ ---        ┆ ime       ┆ _time     ┆ ---     ┆   ┆ type      ┆ t_travele ┆ ---       ┆ ---       │\n",
       "│ str        ┆ ---       ┆ ---       ┆ str     ┆   ┆ ---       ┆ d         ┆ i64       ┆ str       │\n",
       "│            ┆ str       ┆ str       ┆         ┆   ┆ i64       ┆ ---       ┆           ┆           │\n",
       "│            ┆           ┆           ┆         ┆   ┆           ┆ f64       ┆           ┆           │\n",
       "╞════════════╪═══════════╪═══════════╪═════════╪═══╪═══════════╪═══════════╪═══════════╪═══════════╡\n",
       "│ 1.AA51.1-S ┆ 22:50:00  ┆ 22:50:00  ┆ 254111  ┆ … ┆ 0         ┆ 0.0       ┆ 1         ┆           │\n",
       "│ C0-1-sj2-2 ┆           ┆           ┆         ┆   ┆           ┆           ┆           ┆           │\n",
       "│ .1.R       ┆           ┆           ┆         ┆   ┆           ┆           ┆           ┆           │\n",
       "│ 1.AA51.1-S ┆ 23:04:00  ┆ 23:04:00  ┆ 253572  ┆ … ┆ 0         ┆ 264719.76 ┆ 1         ┆           │\n",
       "│ C0-1-sj2-2 ┆           ┆           ┆         ┆   ┆           ┆ 4225      ┆           ┆           │\n",
       "│ .1.R       ┆           ┆           ┆         ┆   ┆           ┆           ┆           ┆           │\n",
       "│ 1.AA51.1-S ┆ 23:20:00  ┆ 23:20:00  ┆ 253476  ┆ … ┆ 0         ┆ 443868.90 ┆ 1         ┆           │\n",
       "│ C0-1-sj2-2 ┆           ┆           ┆         ┆   ┆           ┆ 3764      ┆           ┆           │\n",
       "│ .1.R       ┆           ┆           ┆         ┆   ┆           ┆           ┆           ┆           │\n",
       "│ 1.AA51.1-S ┆ 23:30:00  ┆ 23:30:00  ┆ 253332  ┆ … ┆ 0         ┆ 548894.49 ┆ 1         ┆           │\n",
       "│ C0-1-sj2-2 ┆           ┆           ┆         ┆   ┆           ┆ 1353      ┆           ┆           │\n",
       "│ .1.R       ┆           ┆           ┆         ┆   ┆           ┆           ┆           ┆           │\n",
       "│ …          ┆ …         ┆ …         ┆ …       ┆ … ┆ …         ┆ …         ┆ …         ┆ …         │\n",
       "│ 26.AA51.9- ┆ 07:57:00  ┆ 07:57:00  ┆ 20005   ┆ … ┆ 0         ┆ 0.0       ┆ 1         ┆           │\n",
       "│ F7-sj2-1.8 ┆           ┆           ┆         ┆   ┆           ┆           ┆           ┆           │\n",
       "│ .H         ┆           ┆           ┆         ┆   ┆           ┆           ┆           ┆           │\n",
       "│ 26.AA51.9- ┆ 08:12:00  ┆ 08:12:00  ┆ 20281   ┆ … ┆ 0         ┆ 44739.097 ┆ 1         ┆           │\n",
       "│ F7-sj2-1.8 ┆           ┆           ┆         ┆   ┆           ┆ 839       ┆           ┆           │\n",
       "│ .H         ┆           ┆           ┆         ┆   ┆           ┆           ┆           ┆           │\n",
       "│ 28.AA51.9- ┆ 08:57:00  ┆ 08:57:00  ┆ 20005   ┆ … ┆ 0         ┆ 0.0       ┆ 1         ┆           │\n",
       "│ F7-sj2-1.8 ┆           ┆           ┆         ┆   ┆           ┆           ┆           ┆           │\n",
       "│ .H         ┆           ┆           ┆         ┆   ┆           ┆           ┆           ┆           │\n",
       "│ 28.AA51.9- ┆ 09:13:00  ┆ 09:13:00  ┆ 20281   ┆ … ┆ 0         ┆ 44739.097 ┆ 1         ┆           │\n",
       "│ F7-sj2-1.8 ┆           ┆           ┆         ┆   ┆           ┆ 839       ┆           ┆           │\n",
       "│ .H         ┆           ┆           ┆         ┆   ┆           ┆           ┆           ┆           │\n",
       "└────────────┴───────────┴───────────┴─────────┴───┴───────────┴───────────┴───────────┴───────────┘"
      ]
     },
     "execution_count": 8,
     "metadata": {},
     "output_type": "execute_result"
    }
   ],
   "source": [
    "pl.read_csv(data.path / \"stop_times.txt\", dtypes={\n",
    "    'stop_id': pl.Utf8\n",
    "})"
   ]
  },
  {
   "cell_type": "code",
   "execution_count": 9,
   "metadata": {},
   "outputs": [
    {
     "data": {
      "text/html": [
       "<div><style>\n",
       ".dataframe > thead > tr > th,\n",
       ".dataframe > tbody > tr > td {\n",
       "  text-align: right;\n",
       "}\n",
       "</style>\n",
       "<small>shape: (5, 11)</small><table border=\"1\" class=\"dataframe\"><thead><tr><th>trip_id</th><th>arrival_time</th><th>departure_time</th><th>stop_id</th><th>stop_sequence</th><th>stop_headsign</th><th>pickup_type</th><th>drop_off_type</th><th>shape_dist_traveled</th><th>timepoint</th><th>stop_note</th></tr><tr><td>str</td><td>str</td><td>str</td><td>str</td><td>i64</td><td>str</td><td>i64</td><td>i64</td><td>f64</td><td>i64</td><td>str</td></tr></thead><tbody><tr><td>&quot;13-F.1179.102.124.B.8.56101407&quot;</td><td>&quot;09:32:00&quot;</td><td>&quot;09:32:00&quot;</td><td>&quot;214391&quot;</td><td>24</td><td>&quot;&quot;</td><td>0</td><td>0</td><td>299818.02501</td><td>1</td><td>&quot;&quot;</td></tr><tr><td>&quot;696851&quot;</td><td>&quot;09:25:00&quot;</td><td>&quot;09:25:00&quot;</td><td>&quot;2320169&quot;</td><td>3</td><td>&quot;&quot;</td><td>0</td><td>0</td><td>16909.347549</td><td>0</td><td>&quot;&quot;</td></tr><tr><td>&quot;606816&quot;</td><td>&quot;06:09:00&quot;</td><td>&quot;06:09:00&quot;</td><td>&quot;256420&quot;</td><td>17</td><td>&quot;&quot;</td><td>0</td><td>0</td><td>41562.192639</td><td>0</td><td>&quot;&quot;</td></tr><tr><td>&quot;955354&quot;</td><td>&quot;07:23:00&quot;</td><td>&quot;07:23:00&quot;</td><td>&quot;203135&quot;</td><td>8</td><td>&quot;&quot;</td><td>0</td><td>0</td><td>63414.964009</td><td>0</td><td>&quot;&quot;</td></tr><tr><td>&quot;108W.1288.117.2.T.8.56839303&quot;</td><td>&quot;23:02:06&quot;</td><td>&quot;23:02:36&quot;</td><td>&quot;206142&quot;</td><td>4</td><td>&quot;&quot;</td><td>0</td><td>0</td><td>42236.075397</td><td>1</td><td>&quot;&quot;</td></tr></tbody></table></div>"
      ],
      "text/plain": [
       "shape: (5, 11)\n",
       "┌────────────┬───────────┬───────────┬─────────┬───┬───────────┬───────────┬───────────┬───────────┐\n",
       "│ trip_id    ┆ arrival_t ┆ departure ┆ stop_id ┆ … ┆ drop_off_ ┆ shape_dis ┆ timepoint ┆ stop_note │\n",
       "│ ---        ┆ ime       ┆ _time     ┆ ---     ┆   ┆ type      ┆ t_travele ┆ ---       ┆ ---       │\n",
       "│ str        ┆ ---       ┆ ---       ┆ str     ┆   ┆ ---       ┆ d         ┆ i64       ┆ str       │\n",
       "│            ┆ str       ┆ str       ┆         ┆   ┆ i64       ┆ ---       ┆           ┆           │\n",
       "│            ┆           ┆           ┆         ┆   ┆           ┆ f64       ┆           ┆           │\n",
       "╞════════════╪═══════════╪═══════════╪═════════╪═══╪═══════════╪═══════════╪═══════════╪═══════════╡\n",
       "│ 13-F.1179. ┆ 09:32:00  ┆ 09:32:00  ┆ 214391  ┆ … ┆ 0         ┆ 299818.02 ┆ 1         ┆           │\n",
       "│ 102.124.B. ┆           ┆           ┆         ┆   ┆           ┆ 501       ┆           ┆           │\n",
       "│ 8.56101407 ┆           ┆           ┆         ┆   ┆           ┆           ┆           ┆           │\n",
       "│ 696851     ┆ 09:25:00  ┆ 09:25:00  ┆ 2320169 ┆ … ┆ 0         ┆ 16909.347 ┆ 0         ┆           │\n",
       "│            ┆           ┆           ┆         ┆   ┆           ┆ 549       ┆           ┆           │\n",
       "│ 606816     ┆ 06:09:00  ┆ 06:09:00  ┆ 256420  ┆ … ┆ 0         ┆ 41562.192 ┆ 0         ┆           │\n",
       "│            ┆           ┆           ┆         ┆   ┆           ┆ 639       ┆           ┆           │\n",
       "│ 955354     ┆ 07:23:00  ┆ 07:23:00  ┆ 203135  ┆ … ┆ 0         ┆ 63414.964 ┆ 0         ┆           │\n",
       "│            ┆           ┆           ┆         ┆   ┆           ┆ 009       ┆           ┆           │\n",
       "│ 108W.1288. ┆ 23:02:06  ┆ 23:02:36  ┆ 206142  ┆ … ┆ 0         ┆ 42236.075 ┆ 1         ┆           │\n",
       "│ 117.2.T.8. ┆           ┆           ┆         ┆   ┆           ┆ 397       ┆           ┆           │\n",
       "│ 56839303   ┆           ┆           ┆         ┆   ┆           ┆           ┆           ┆           │\n",
       "└────────────┴───────────┴───────────┴─────────┴───┴───────────┴───────────┴───────────┴───────────┘"
      ]
     },
     "execution_count": 9,
     "metadata": {},
     "output_type": "execute_result"
    }
   ],
   "source": [
    "pl.read_csv(data.path / \"stop_times.txt\", dtypes={\n",
    "    'stop_id': pl.Utf8\n",
    "}).sample(5)"
   ]
  },
  {
   "cell_type": "code",
   "execution_count": 10,
   "metadata": {},
   "outputs": [
    {
     "data": {
      "text/html": [
       "<div><style>\n",
       ".dataframe > thead > tr > th,\n",
       ".dataframe > tbody > tr > td {\n",
       "  text-align: right;\n",
       "}\n",
       "</style>\n",
       "<small>shape: (5, 9)</small><table border=\"1\" class=\"dataframe\"><thead><tr><th>stop_id</th><th>stop_code</th><th>stop_name</th><th>stop_lat</th><th>stop_lon</th><th>location_type</th><th>parent_station</th><th>wheelchair_boarding</th><th>platform_code</th></tr><tr><td>str</td><td>i64</td><td>str</td><td>f64</td><td>f64</td><td>str</td><td>str</td><td>i64</td><td>str</td></tr></thead><tbody><tr><td>&quot;2101104&quot;</td><td>2101104</td><td>&quot;Pittwater Rd At Albert St&quot;</td><td>-33.71441</td><td>151.297474</td><td>&quot;&quot;</td><td>&quot;&quot;</td><td>0</td><td>&quot;&quot;</td></tr><tr><td>&quot;2260188&quot;</td><td>2260188</td><td>&quot;Tumbi Rd At Aldinga Dr&quot;</td><td>-33.413771</td><td>151.449386</td><td>&quot;&quot;</td><td>&quot;&quot;</td><td>0</td><td>&quot;&quot;</td></tr><tr><td>&quot;35491&quot;</td><td>35491</td><td>&quot;Robinvale Coach Stop, Bromley St&quot;</td><td>-34.584227</td><td>142.769957</td><td>&quot;&quot;</td><td>&quot;&quot;</td><td>0</td><td>&quot;&quot;</td></tr><tr><td>&quot;228980&quot;</td><td>228980</td><td>&quot;Fernleigh Loop At Faul St&quot;</td><td>-32.952064</td><td>151.718566</td><td>&quot;&quot;</td><td>&quot;&quot;</td><td>0</td><td>&quot;&quot;</td></tr><tr><td>&quot;252630&quot;</td><td>252630</td><td>&quot;Fairloch Av At Farmborough Rd&quot;</td><td>-34.458592</td><td>150.81851</td><td>&quot;&quot;</td><td>&quot;&quot;</td><td>0</td><td>&quot;&quot;</td></tr></tbody></table></div>"
      ],
      "text/plain": [
       "shape: (5, 9)\n",
       "┌─────────┬───────────┬────────────┬───────────┬───┬───────────┬───────────┬───────────┬───────────┐\n",
       "│ stop_id ┆ stop_code ┆ stop_name  ┆ stop_lat  ┆ … ┆ location_ ┆ parent_st ┆ wheelchai ┆ platform_ │\n",
       "│ ---     ┆ ---       ┆ ---        ┆ ---       ┆   ┆ type      ┆ ation     ┆ r_boardin ┆ code      │\n",
       "│ str     ┆ i64       ┆ str        ┆ f64       ┆   ┆ ---       ┆ ---       ┆ g         ┆ ---       │\n",
       "│         ┆           ┆            ┆           ┆   ┆ str       ┆ str       ┆ ---       ┆ str       │\n",
       "│         ┆           ┆            ┆           ┆   ┆           ┆           ┆ i64       ┆           │\n",
       "╞═════════╪═══════════╪════════════╪═══════════╪═══╪═══════════╪═══════════╪═══════════╪═══════════╡\n",
       "│ 2101104 ┆ 2101104   ┆ Pittwater  ┆ -33.71441 ┆ … ┆           ┆           ┆ 0         ┆           │\n",
       "│         ┆           ┆ Rd At      ┆           ┆   ┆           ┆           ┆           ┆           │\n",
       "│         ┆           ┆ Albert St  ┆           ┆   ┆           ┆           ┆           ┆           │\n",
       "│ 2260188 ┆ 2260188   ┆ Tumbi Rd   ┆ -33.41377 ┆ … ┆           ┆           ┆ 0         ┆           │\n",
       "│         ┆           ┆ At Aldinga ┆ 1         ┆   ┆           ┆           ┆           ┆           │\n",
       "│         ┆           ┆ Dr         ┆           ┆   ┆           ┆           ┆           ┆           │\n",
       "│ 35491   ┆ 35491     ┆ Robinvale  ┆ -34.58422 ┆ … ┆           ┆           ┆ 0         ┆           │\n",
       "│         ┆           ┆ Coach      ┆ 7         ┆   ┆           ┆           ┆           ┆           │\n",
       "│         ┆           ┆ Stop,      ┆           ┆   ┆           ┆           ┆           ┆           │\n",
       "│         ┆           ┆ Bromley St ┆           ┆   ┆           ┆           ┆           ┆           │\n",
       "│ 228980  ┆ 228980    ┆ Fernleigh  ┆ -32.95206 ┆ … ┆           ┆           ┆ 0         ┆           │\n",
       "│         ┆           ┆ Loop At    ┆ 4         ┆   ┆           ┆           ┆           ┆           │\n",
       "│         ┆           ┆ Faul St    ┆           ┆   ┆           ┆           ┆           ┆           │\n",
       "│ 252630  ┆ 252630    ┆ Fairloch   ┆ -34.45859 ┆ … ┆           ┆           ┆ 0         ┆           │\n",
       "│         ┆           ┆ Av At Farm ┆ 2         ┆   ┆           ┆           ┆           ┆           │\n",
       "│         ┆           ┆ borough Rd ┆           ┆   ┆           ┆           ┆           ┆           │\n",
       "└─────────┴───────────┴────────────┴───────────┴───┴───────────┴───────────┴───────────┴───────────┘"
      ]
     },
     "execution_count": 10,
     "metadata": {},
     "output_type": "execute_result"
    }
   ],
   "source": [
    "pl.read_csv(data.path / \"stops.txt\", dtypes={\n",
    "    'stop_id': pl.Utf8\n",
    "}).sample(5)"
   ]
  },
  {
   "cell_type": "code",
   "execution_count": 11,
   "metadata": {},
   "outputs": [
    {
     "data": {
      "text/html": [
       "<div><style>\n",
       ".dataframe > thead > tr > th,\n",
       ".dataframe > tbody > tr > td {\n",
       "  text-align: right;\n",
       "}\n",
       "</style>\n",
       "<small>shape: (5, 11)</small><table border=\"1\" class=\"dataframe\"><thead><tr><th>route_id</th><th>service_id</th><th>trip_id</th><th>shape_id</th><th>trip_headsign</th><th>direction_id</th><th>block_id</th><th>wheelchair_accessible</th><th>route_direction</th><th>trip_note</th><th>bikes_allowed</th></tr><tr><td>str</td><td>str</td><td>str</td><td>str</td><td>str</td><td>i64</td><td>str</td><td>i64</td><td>str</td><td>str</td><td>str</td></tr></thead><tbody><tr><td>&quot;23-11M-sj2-2&quot;</td><td>&quot;TA+r1454+6&quot;</td><td>&quot;960294&quot;</td><td>&quot;23-11M-sj2-2.1.H&quot;</td><td>&quot;Tallawong&quot;</td><td>0</td><td>&quot;&quot;</td><td>2</td><td>&quot;Chatswood toTallawong&quot;</td><td>&quot;&quot;</td><td>&quot;&quot;</td></tr><tr><td>&quot;20-731-sj2-1&quot;</td><td>&quot;TA+r1167+3&quot;</td><td>&quot;942527&quot;</td><td>&quot;20-731-sj2-1.3.H&quot;</td><td>&quot;Rouse Hill&quot;</td><td>0</td><td>&quot;&quot;</td><td>1</td><td>&quot;Blacktown to Rouse Hill via Stanhope Gardens&quot;</td><td>&quot;&quot;</td><td>&quot;&quot;</td></tr><tr><td>&quot;61-97-sj2-1&quot;</td><td>&quot;TA+r1160+23&quot;</td><td>&quot;465455&quot;</td><td>&quot;61-97-sj2-1.7.R&quot;</td><td>&quot;Lake Haven&quot;</td><td>1</td><td>&quot;&quot;</td><td>1</td><td>&quot;Lake Haven to Wyee and Mannering Park (Loop Service)&quot;</td><td>&quot;&quot;</td><td>&quot;&quot;</td></tr><tr><td>&quot;23-616-X-sj2-1&quot;</td><td>&quot;TA+r1299+6&quot;</td><td>&quot;840225&quot;</td><td>&quot;23-616-X-sj2-1.1.R&quot;</td><td>&quot;QVB York St&quot;</td><td>1</td><td>&quot;&quot;</td><td>1</td><td>&quot;Kellyville Ridge to City QVB&quot;</td><td>&quot;&quot;</td><td>&quot;&quot;</td></tr><tr><td>&quot;67-S24-1-sj2-1&quot;</td><td>&quot;TA+r1185+27&quot;</td><td>&quot;887463&quot;</td><td>&quot;67-S24-1-sj2-1.2.R&quot;</td><td>&quot;Tigs&quot;</td><td>1</td><td>&quot;&quot;</td><td>2</td><td>&quot;Caldwell Ave at Charles Rd to The Illawarra Grammar School&quot;</td><td>&quot;&quot;</td><td>&quot;&quot;</td></tr></tbody></table></div>"
      ],
      "text/plain": [
       "shape: (5, 11)\n",
       "┌────────────┬───────────┬─────────┬───────────┬───┬───────────┬───────────┬───────────┬───────────┐\n",
       "│ route_id   ┆ service_i ┆ trip_id ┆ shape_id  ┆ … ┆ wheelchai ┆ route_dir ┆ trip_note ┆ bikes_all │\n",
       "│ ---        ┆ d         ┆ ---     ┆ ---       ┆   ┆ r_accessi ┆ ection    ┆ ---       ┆ owed      │\n",
       "│ str        ┆ ---       ┆ str     ┆ str       ┆   ┆ ble       ┆ ---       ┆ str       ┆ ---       │\n",
       "│            ┆ str       ┆         ┆           ┆   ┆ ---       ┆ str       ┆           ┆ str       │\n",
       "│            ┆           ┆         ┆           ┆   ┆ i64       ┆           ┆           ┆           │\n",
       "╞════════════╪═══════════╪═════════╪═══════════╪═══╪═══════════╪═══════════╪═══════════╪═══════════╡\n",
       "│ 23-11M-sj2 ┆ TA+r1454+ ┆ 960294  ┆ 23-11M-sj ┆ … ┆ 2         ┆ Chatswood ┆           ┆           │\n",
       "│ -2         ┆ 6         ┆         ┆ 2-2.1.H   ┆   ┆           ┆ toTallawo ┆           ┆           │\n",
       "│            ┆           ┆         ┆           ┆   ┆           ┆ ng        ┆           ┆           │\n",
       "│ 20-731-sj2 ┆ TA+r1167+ ┆ 942527  ┆ 20-731-sj ┆ … ┆ 1         ┆ Blacktown ┆           ┆           │\n",
       "│ -1         ┆ 3         ┆         ┆ 2-1.3.H   ┆   ┆           ┆ to Rouse  ┆           ┆           │\n",
       "│            ┆           ┆         ┆           ┆   ┆           ┆ Hill via  ┆           ┆           │\n",
       "│            ┆           ┆         ┆           ┆   ┆           ┆ Stanhope  ┆           ┆           │\n",
       "│            ┆           ┆         ┆           ┆   ┆           ┆ Gardens   ┆           ┆           │\n",
       "│ 61-97-sj2- ┆ TA+r1160+ ┆ 465455  ┆ 61-97-sj2 ┆ … ┆ 1         ┆ Lake      ┆           ┆           │\n",
       "│ 1          ┆ 23        ┆         ┆ -1.7.R    ┆   ┆           ┆ Haven to  ┆           ┆           │\n",
       "│            ┆           ┆         ┆           ┆   ┆           ┆ Wyee and  ┆           ┆           │\n",
       "│            ┆           ┆         ┆           ┆   ┆           ┆ Mannering ┆           ┆           │\n",
       "│            ┆           ┆         ┆           ┆   ┆           ┆ Park      ┆           ┆           │\n",
       "│            ┆           ┆         ┆           ┆   ┆           ┆ (Loop     ┆           ┆           │\n",
       "│            ┆           ┆         ┆           ┆   ┆           ┆ Service)  ┆           ┆           │\n",
       "│ 23-616-X-s ┆ TA+r1299+ ┆ 840225  ┆ 23-616-X- ┆ … ┆ 1         ┆ Kellyvill ┆           ┆           │\n",
       "│ j2-1       ┆ 6         ┆         ┆ sj2-1.1.R ┆   ┆           ┆ e Ridge   ┆           ┆           │\n",
       "│            ┆           ┆         ┆           ┆   ┆           ┆ to City   ┆           ┆           │\n",
       "│            ┆           ┆         ┆           ┆   ┆           ┆ QVB       ┆           ┆           │\n",
       "│ 67-S24-1-s ┆ TA+r1185+ ┆ 887463  ┆ 67-S24-1- ┆ … ┆ 2         ┆ Caldwell  ┆           ┆           │\n",
       "│ j2-1       ┆ 27        ┆         ┆ sj2-1.2.R ┆   ┆           ┆ Ave at    ┆           ┆           │\n",
       "│            ┆           ┆         ┆           ┆   ┆           ┆ Charles   ┆           ┆           │\n",
       "│            ┆           ┆         ┆           ┆   ┆           ┆ Rd to The ┆           ┆           │\n",
       "│            ┆           ┆         ┆           ┆   ┆           ┆ Illawarra ┆           ┆           │\n",
       "│            ┆           ┆         ┆           ┆   ┆           ┆ Grammar   ┆           ┆           │\n",
       "│            ┆           ┆         ┆           ┆   ┆           ┆ School    ┆           ┆           │\n",
       "└────────────┴───────────┴─────────┴───────────┴───┴───────────┴───────────┴───────────┴───────────┘"
      ]
     },
     "execution_count": 11,
     "metadata": {},
     "output_type": "execute_result"
    }
   ],
   "source": [
    "pl.read_csv(data.path / \"trips.txt\").sample(5)"
   ]
  },
  {
   "cell_type": "code",
   "execution_count": null,
   "metadata": {},
   "outputs": [],
   "source": []
  }
 ],
 "metadata": {
  "kernelspec": {
   "display_name": "advanced_python",
   "language": "python",
   "name": "python3"
  },
  "language_info": {
   "codemirror_mode": {
    "name": "ipython",
    "version": 3
   },
   "file_extension": ".py",
   "mimetype": "text/x-python",
   "name": "python",
   "nbconvert_exporter": "python",
   "pygments_lexer": "ipython3",
   "version": "3.11.4"
  },
  "orig_nbformat": 4
 },
 "nbformat": 4,
 "nbformat_minor": 2
}
