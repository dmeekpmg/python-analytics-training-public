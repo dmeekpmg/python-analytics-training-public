{
 "cells": [
  {
   "cell_type": "markdown",
   "metadata": {},
   "source": [
    "# Project structure and basic imports\n",
    "\n",
    "This notebook shows the most basic end-to-end example of working with data.\n",
    "\n",
    "When using notebooks, use appropriate markdown heading levels to easily navigate your \n",
    "document"
   ]
  },
  {
   "cell_type": "code",
   "execution_count": 1,
   "metadata": {},
   "outputs": [
    {
     "name": "stdout",
     "output_type": "stream",
     "text": [
      "The autoreload extension is already loaded. To reload it, use:\n",
      "  %reload_ext autoreload\n"
     ]
    }
   ],
   "source": [
    "import pandas as pd\n",
    "from pathlib import Path\n",
    "from dotenv import load_dotenv\n",
    "import os\n",
    "\n",
    "# Automatically reload external modules as you change them\n",
    "# This can be set automatically by adding \n",
    "from IPython import get_ipython\n",
    "\n",
    "pd.options.plotting.backend = 'plotly' # Use plotly instead of matplotlib\n",
    "\n",
    "ip = get_ipython()\n",
    "ip.run_line_magic(\"load_ext\", \"autoreload\")\n",
    "ip.run_line_magic(\"autoreload\", \"2\")"
   ]
  },
  {
   "cell_type": "markdown",
   "metadata": {},
   "source": [
    "## Keeping configuration and passwords separate from your code\n",
    "\n",
    "There are many reasons that you might want to use information that is not stored in a\n",
    "repository:\n",
    "\n",
    "- passwords (which should NEVER be harcoded in the codebase)\n",
    "- configuration options that other users of your code may want to change, such as \n",
    "  paths to data files\n",
    "- number of processers to use for multiprocessing\n",
    "\n",
    "These can be stored in an environment variable that is not tracked in git. Each \n",
    "developer creates their own `.env` file that is read in by the code.\n",
    "\n",
    "The python package python-dotenv allows you to add a set of variables to your \n",
    "environment and read them from python\n",
    "\n",
    "https://pypi.org/project/python-dotenv/"
   ]
  },
  {
   "cell_type": "code",
   "execution_count": 2,
   "metadata": {},
   "outputs": [
    {
     "data": {
      "text/plain": [
       "True"
      ]
     },
     "execution_count": 2,
     "metadata": {},
     "output_type": "execute_result"
    }
   ],
   "source": [
    "load_dotenv(override=True) # take environment variables from .env.\n",
    "                           # Pass the override=True argument if you have already loaded\n",
    "                           # variables and want to replace them with an updated value"
   ]
  },
  {
   "cell_type": "markdown",
   "metadata": {},
   "source": [
    "## Working with paths\n",
    "\n",
    "Since python v3.7, it is no longer necessary to use string manipulation to build paths.\n",
    "The pathlib library makes it much easier to construct paths, navigate to parent or\n",
    "child folders, iterate over files within a folder, etc.\n",
    "\n",
    "https://docs.python.org/3/library/pathlib.html"
   ]
  },
  {
   "cell_type": "code",
   "execution_count": 3,
   "metadata": {},
   "outputs": [
    {
     "data": {
      "text/plain": [
       "[WindowsPath('C:/Temp/advanced_python/sample_full_greater_sydney/agency.txt'),\n",
       " WindowsPath('C:/Temp/advanced_python/sample_full_greater_sydney/calendar.txt'),\n",
       " WindowsPath('C:/Temp/advanced_python/sample_full_greater_sydney/calendar_dates.txt'),\n",
       " WindowsPath('C:/Temp/advanced_python/sample_full_greater_sydney/notes.txt'),\n",
       " WindowsPath('C:/Temp/advanced_python/sample_full_greater_sydney/routes.txt'),\n",
       " WindowsPath('C:/Temp/advanced_python/sample_full_greater_sydney/shapes.txt'),\n",
       " WindowsPath('C:/Temp/advanced_python/sample_full_greater_sydney/stops.txt'),\n",
       " WindowsPath('C:/Temp/advanced_python/sample_full_greater_sydney/stop_times.txt'),\n",
       " WindowsPath('C:/Temp/advanced_python/sample_full_greater_sydney/trips.txt')]"
      ]
     },
     "execution_count": 3,
     "metadata": {},
     "output_type": "execute_result"
    }
   ],
   "source": [
    "sample_data_path = Path(os.getenv(\"DATA_PATH\")) / 'sample_full_greater_sydney'\n",
    "\n",
    "# e.g. list all files in the data folder\n",
    "[f for f in sample_data_path.glob(\"*.txt\")]"
   ]
  },
  {
   "cell_type": "markdown",
   "metadata": {},
   "source": [
    "## Importing data\n",
    "\n"
   ]
  },
  {
   "cell_type": "code",
   "execution_count": 4,
   "metadata": {},
   "outputs": [
    {
     "name": "stderr",
     "output_type": "stream",
     "text": [
      "C:\\Users\\dmee1\\AppData\\Local\\Temp\\ipykernel_25856\\1448376463.py:1: DtypeWarning: Columns (9) have mixed types. Specify dtype option on import or set low_memory=False.\n",
      "  df_pd = pd.read_csv(data_path / \"trips.txt\")\n"
     ]
    },
    {
     "data": {
      "text/html": [
       "<div>\n",
       "<style scoped>\n",
       "    .dataframe tbody tr th:only-of-type {\n",
       "        vertical-align: middle;\n",
       "    }\n",
       "\n",
       "    .dataframe tbody tr th {\n",
       "        vertical-align: top;\n",
       "    }\n",
       "\n",
       "    .dataframe thead th {\n",
       "        text-align: right;\n",
       "    }\n",
       "</style>\n",
       "<table border=\"1\" class=\"dataframe\">\n",
       "  <thead>\n",
       "    <tr style=\"text-align: right;\">\n",
       "      <th></th>\n",
       "      <th>route_id</th>\n",
       "      <th>service_id</th>\n",
       "      <th>trip_id</th>\n",
       "      <th>shape_id</th>\n",
       "      <th>trip_headsign</th>\n",
       "      <th>direction_id</th>\n",
       "      <th>block_id</th>\n",
       "      <th>wheelchair_accessible</th>\n",
       "      <th>route_direction</th>\n",
       "      <th>trip_note</th>\n",
       "      <th>bikes_allowed</th>\n",
       "    </tr>\n",
       "  </thead>\n",
       "  <tbody>\n",
       "    <tr>\n",
       "      <th>0</th>\n",
       "      <td>1-SC0-1-sj2-2</td>\n",
       "      <td>AA51+1</td>\n",
       "      <td>1.AA51.1-SC0-1-sj2-2.1.R</td>\n",
       "      <td>1-SC0-1-sj2-2.1.R</td>\n",
       "      <td>Kiama</td>\n",
       "      <td>1</td>\n",
       "      <td>NaN</td>\n",
       "      <td>1</td>\n",
       "      <td>Bomaderry to Kiama</td>\n",
       "      <td>NaN</td>\n",
       "      <td>NaN</td>\n",
       "    </tr>\n",
       "    <tr>\n",
       "      <th>1</th>\n",
       "      <td>1-SC0-1-sj2-2</td>\n",
       "      <td>AA51+1</td>\n",
       "      <td>3.AA51.1-SC0-1-sj2-2.1.R</td>\n",
       "      <td>1-SC0-1-sj2-2.1.R</td>\n",
       "      <td>Kiama</td>\n",
       "      <td>1</td>\n",
       "      <td>NaN</td>\n",
       "      <td>1</td>\n",
       "      <td>Bomaderry to Kiama</td>\n",
       "      <td>NaN</td>\n",
       "      <td>NaN</td>\n",
       "    </tr>\n",
       "    <tr>\n",
       "      <th>2</th>\n",
       "      <td>1-SC0-1-sj2-2</td>\n",
       "      <td>AA51+1</td>\n",
       "      <td>5.AA51.1-SC0-1-sj2-2.1.R</td>\n",
       "      <td>1-SC0-1-sj2-2.1.R</td>\n",
       "      <td>Kiama</td>\n",
       "      <td>1</td>\n",
       "      <td>NaN</td>\n",
       "      <td>1</td>\n",
       "      <td>Bomaderry to Kiama</td>\n",
       "      <td>NaN</td>\n",
       "      <td>NaN</td>\n",
       "    </tr>\n",
       "    <tr>\n",
       "      <th>3</th>\n",
       "      <td>1-SC0-1-sj2-2</td>\n",
       "      <td>AA51+1</td>\n",
       "      <td>7.AA51.1-SC0-1-sj2-2.2.H</td>\n",
       "      <td>1-SC0-1-sj2-2.2.H</td>\n",
       "      <td>Bomaderry</td>\n",
       "      <td>0</td>\n",
       "      <td>NaN</td>\n",
       "      <td>1</td>\n",
       "      <td>Kiama to Bomaderry</td>\n",
       "      <td>NaN</td>\n",
       "      <td>NaN</td>\n",
       "    </tr>\n",
       "    <tr>\n",
       "      <th>4</th>\n",
       "      <td>1-SC0-1-sj2-2</td>\n",
       "      <td>AA51+1</td>\n",
       "      <td>9.AA51.1-SC0-1-sj2-2.2.H</td>\n",
       "      <td>1-SC0-1-sj2-2.2.H</td>\n",
       "      <td>Bomaderry</td>\n",
       "      <td>0</td>\n",
       "      <td>NaN</td>\n",
       "      <td>1</td>\n",
       "      <td>Kiama to Bomaderry</td>\n",
       "      <td>NaN</td>\n",
       "      <td>NaN</td>\n",
       "    </tr>\n",
       "  </tbody>\n",
       "</table>\n",
       "</div>"
      ],
      "text/plain": [
       "        route_id service_id                   trip_id           shape_id  \\\n",
       "0  1-SC0-1-sj2-2     AA51+1  1.AA51.1-SC0-1-sj2-2.1.R  1-SC0-1-sj2-2.1.R   \n",
       "1  1-SC0-1-sj2-2     AA51+1  3.AA51.1-SC0-1-sj2-2.1.R  1-SC0-1-sj2-2.1.R   \n",
       "2  1-SC0-1-sj2-2     AA51+1  5.AA51.1-SC0-1-sj2-2.1.R  1-SC0-1-sj2-2.1.R   \n",
       "3  1-SC0-1-sj2-2     AA51+1  7.AA51.1-SC0-1-sj2-2.2.H  1-SC0-1-sj2-2.2.H   \n",
       "4  1-SC0-1-sj2-2     AA51+1  9.AA51.1-SC0-1-sj2-2.2.H  1-SC0-1-sj2-2.2.H   \n",
       "\n",
       "  trip_headsign  direction_id block_id  wheelchair_accessible  \\\n",
       "0         Kiama             1      NaN                      1   \n",
       "1         Kiama             1      NaN                      1   \n",
       "2         Kiama             1      NaN                      1   \n",
       "3     Bomaderry             0      NaN                      1   \n",
       "4     Bomaderry             0      NaN                      1   \n",
       "\n",
       "      route_direction trip_note  bikes_allowed  \n",
       "0  Bomaderry to Kiama       NaN            NaN  \n",
       "1  Bomaderry to Kiama       NaN            NaN  \n",
       "2  Bomaderry to Kiama       NaN            NaN  \n",
       "3  Kiama to Bomaderry       NaN            NaN  \n",
       "4  Kiama to Bomaderry       NaN            NaN  "
      ]
     },
     "execution_count": 4,
     "metadata": {},
     "output_type": "execute_result"
    }
   ],
   "source": [
    "df_pd = pd.read_csv(sample_data_path / \"trips.txt\")\n",
    "df_pd.head()"
   ]
  },
  {
   "cell_type": "code",
   "execution_count": 5,
   "metadata": {},
   "outputs": [
    {
     "data": {
      "text/plain": [
       "route_direction\n",
       "City to Berowra via Gordon                   2989\n",
       "Hornsby to Gordon via Strathfield            2453\n",
       "City to Parramatta or Leppington             2229\n",
       "Parramatta or Leppington to City             2222\n",
       "City to Emu Plains or Richmond               2129\n",
       "Emu Plains or Richmond to City               2088\n",
       "Berowra to City via Gordon                   2060\n",
       "City to Macarthur via Airport or Sydenham    1941\n",
       "Macarthur to City via Airport or Sydenham    1904\n",
       "Bondi Junction to Waterfall or Cronulla      1837\n",
       "dtype: int64"
      ]
     },
     "execution_count": 5,
     "metadata": {},
     "output_type": "execute_result"
    }
   ],
   "source": [
    "df_pd.groupby(\"route_direction\").size().sort_values(ascending=False).head(10)"
   ]
  },
  {
   "cell_type": "markdown",
   "metadata": {},
   "source": [
    "## Advanced import\n",
    "\n",
    "Polars is a modern library that is built as an extremely fast replacement for pandas.\n",
    "Speed improvements can be between 10x and 60x faster for common actions such as\n",
    "loading a csv, joining two large dataframes or grouping and aggregation.\n",
    "\n",
    "As the library is still relatively new and not used as widely, it is recommended\n",
    "that this is used when working with larger datasets where performance may be a concern.\n",
    "\n",
    "With the release of pandas 2.0, it is now also easy to convert dataframes between the\n",
    "two formats, so you can benefit from the powerful features of pandas when you need them,\n",
    "and then convert to a polars dataframe for a slow join.\n",
    "\n",
    "https://www.pola.rs/"
   ]
  },
  {
   "cell_type": "code",
   "execution_count": 6,
   "metadata": {},
   "outputs": [],
   "source": [
    "import polars as pl"
   ]
  },
  {
   "cell_type": "code",
   "execution_count": 7,
   "metadata": {},
   "outputs": [
    {
     "data": {
      "text/plain": [
       "polars.config.Config"
      ]
     },
     "execution_count": 7,
     "metadata": {},
     "output_type": "execute_result"
    }
   ],
   "source": [
    "pl.Config.set_fmt_str_lengths(100) # Show up to 100 characters in dataframes"
   ]
  },
  {
   "cell_type": "code",
   "execution_count": 8,
   "metadata": {},
   "outputs": [
    {
     "data": {
      "text/html": [
       "<div><style>\n",
       ".dataframe > thead > tr > th,\n",
       ".dataframe > tbody > tr > td {\n",
       "  text-align: right;\n",
       "}\n",
       "</style>\n",
       "<small>shape: (5, 11)</small><table border=\"1\" class=\"dataframe\"><thead><tr><th>route_id</th><th>service_id</th><th>trip_id</th><th>shape_id</th><th>trip_headsign</th><th>direction_id</th><th>block_id</th><th>wheelchair_accessible</th><th>route_direction</th><th>trip_note</th><th>bikes_allowed</th></tr><tr><td>str</td><td>str</td><td>str</td><td>str</td><td>str</td><td>i64</td><td>str</td><td>i64</td><td>str</td><td>str</td><td>str</td></tr></thead><tbody><tr><td>&quot;1-SC0-1-sj2-2&quot;</td><td>&quot;AA51+1&quot;</td><td>&quot;1.AA51.1-SC0-1-sj2-2.1.R&quot;</td><td>&quot;1-SC0-1-sj2-2.1.R&quot;</td><td>&quot;Kiama&quot;</td><td>1</td><td>&quot;&quot;</td><td>1</td><td>&quot;Bomaderry to Kiama&quot;</td><td>&quot;&quot;</td><td>&quot;&quot;</td></tr><tr><td>&quot;1-SC0-1-sj2-2&quot;</td><td>&quot;AA51+1&quot;</td><td>&quot;3.AA51.1-SC0-1-sj2-2.1.R&quot;</td><td>&quot;1-SC0-1-sj2-2.1.R&quot;</td><td>&quot;Kiama&quot;</td><td>1</td><td>&quot;&quot;</td><td>1</td><td>&quot;Bomaderry to Kiama&quot;</td><td>&quot;&quot;</td><td>&quot;&quot;</td></tr><tr><td>&quot;1-SC0-1-sj2-2&quot;</td><td>&quot;AA51+1&quot;</td><td>&quot;5.AA51.1-SC0-1-sj2-2.1.R&quot;</td><td>&quot;1-SC0-1-sj2-2.1.R&quot;</td><td>&quot;Kiama&quot;</td><td>1</td><td>&quot;&quot;</td><td>1</td><td>&quot;Bomaderry to Kiama&quot;</td><td>&quot;&quot;</td><td>&quot;&quot;</td></tr><tr><td>&quot;1-SC0-1-sj2-2&quot;</td><td>&quot;AA51+1&quot;</td><td>&quot;7.AA51.1-SC0-1-sj2-2.2.H&quot;</td><td>&quot;1-SC0-1-sj2-2.2.H&quot;</td><td>&quot;Bomaderry&quot;</td><td>0</td><td>&quot;&quot;</td><td>1</td><td>&quot;Kiama to Bomaderry&quot;</td><td>&quot;&quot;</td><td>&quot;&quot;</td></tr><tr><td>&quot;1-SC0-1-sj2-2&quot;</td><td>&quot;AA51+1&quot;</td><td>&quot;9.AA51.1-SC0-1-sj2-2.2.H&quot;</td><td>&quot;1-SC0-1-sj2-2.2.H&quot;</td><td>&quot;Bomaderry&quot;</td><td>0</td><td>&quot;&quot;</td><td>1</td><td>&quot;Kiama to Bomaderry&quot;</td><td>&quot;&quot;</td><td>&quot;&quot;</td></tr></tbody></table></div>"
      ],
      "text/plain": [
       "shape: (5, 11)\n",
       "┌───────────┬───────────┬───────────┬───────────┬───┬───────────┬───────────┬───────────┬──────────┐\n",
       "│ route_id  ┆ service_i ┆ trip_id   ┆ shape_id  ┆ … ┆ wheelchai ┆ route_dir ┆ trip_note ┆ bikes_al │\n",
       "│ ---       ┆ d         ┆ ---       ┆ ---       ┆   ┆ r_accessi ┆ ection    ┆ ---       ┆ lowed    │\n",
       "│ str       ┆ ---       ┆ str       ┆ str       ┆   ┆ ble       ┆ ---       ┆ str       ┆ ---      │\n",
       "│           ┆ str       ┆           ┆           ┆   ┆ ---       ┆ str       ┆           ┆ str      │\n",
       "│           ┆           ┆           ┆           ┆   ┆ i64       ┆           ┆           ┆          │\n",
       "╞═══════════╪═══════════╪═══════════╪═══════════╪═══╪═══════════╪═══════════╪═══════════╪══════════╡\n",
       "│ 1-SC0-1-s ┆ AA51+1    ┆ 1.AA51.1- ┆ 1-SC0-1-s ┆ … ┆ 1         ┆ Bomaderry ┆           ┆          │\n",
       "│ j2-2      ┆           ┆ SC0-1-sj2 ┆ j2-2.1.R  ┆   ┆           ┆ to Kiama  ┆           ┆          │\n",
       "│           ┆           ┆ -2.1.R    ┆           ┆   ┆           ┆           ┆           ┆          │\n",
       "│ 1-SC0-1-s ┆ AA51+1    ┆ 3.AA51.1- ┆ 1-SC0-1-s ┆ … ┆ 1         ┆ Bomaderry ┆           ┆          │\n",
       "│ j2-2      ┆           ┆ SC0-1-sj2 ┆ j2-2.1.R  ┆   ┆           ┆ to Kiama  ┆           ┆          │\n",
       "│           ┆           ┆ -2.1.R    ┆           ┆   ┆           ┆           ┆           ┆          │\n",
       "│ 1-SC0-1-s ┆ AA51+1    ┆ 5.AA51.1- ┆ 1-SC0-1-s ┆ … ┆ 1         ┆ Bomaderry ┆           ┆          │\n",
       "│ j2-2      ┆           ┆ SC0-1-sj2 ┆ j2-2.1.R  ┆   ┆           ┆ to Kiama  ┆           ┆          │\n",
       "│           ┆           ┆ -2.1.R    ┆           ┆   ┆           ┆           ┆           ┆          │\n",
       "│ 1-SC0-1-s ┆ AA51+1    ┆ 7.AA51.1- ┆ 1-SC0-1-s ┆ … ┆ 1         ┆ Kiama to  ┆           ┆          │\n",
       "│ j2-2      ┆           ┆ SC0-1-sj2 ┆ j2-2.2.H  ┆   ┆           ┆ Bomaderry ┆           ┆          │\n",
       "│           ┆           ┆ -2.2.H    ┆           ┆   ┆           ┆           ┆           ┆          │\n",
       "│ 1-SC0-1-s ┆ AA51+1    ┆ 9.AA51.1- ┆ 1-SC0-1-s ┆ … ┆ 1         ┆ Kiama to  ┆           ┆          │\n",
       "│ j2-2      ┆           ┆ SC0-1-sj2 ┆ j2-2.2.H  ┆   ┆           ┆ Bomaderry ┆           ┆          │\n",
       "│           ┆           ┆ -2.2.H    ┆           ┆   ┆           ┆           ┆           ┆          │\n",
       "└───────────┴───────────┴───────────┴───────────┴───┴───────────┴───────────┴───────────┴──────────┘"
      ]
     },
     "execution_count": 8,
     "metadata": {},
     "output_type": "execute_result"
    }
   ],
   "source": [
    "df_pl = pl.read_csv(sample_data_path / \"trips.txt\")\n",
    "df_pl.head(5)"
   ]
  },
  {
   "cell_type": "code",
   "execution_count": 9,
   "metadata": {},
   "outputs": [
    {
     "data": {
      "text/html": [
       "<div><style>\n",
       ".dataframe > thead > tr > th,\n",
       ".dataframe > tbody > tr > td {\n",
       "  text-align: right;\n",
       "}\n",
       "</style>\n",
       "<small>shape: (10, 2)</small><table border=\"1\" class=\"dataframe\"><thead><tr><th>route_direction</th><th>count</th></tr><tr><td>str</td><td>u32</td></tr></thead><tbody><tr><td>&quot;City to Berowra via Gordon&quot;</td><td>2989</td></tr><tr><td>&quot;Hornsby to Gordon via Strathfield&quot;</td><td>2453</td></tr><tr><td>&quot;City to Parramatta or Leppington&quot;</td><td>2229</td></tr><tr><td>&quot;Parramatta or Leppington to City&quot;</td><td>2222</td></tr><tr><td>&quot;City to Emu Plains or Richmond&quot;</td><td>2129</td></tr><tr><td>&quot;Emu Plains or Richmond to City&quot;</td><td>2088</td></tr><tr><td>&quot;Berowra to City via Gordon&quot;</td><td>2060</td></tr><tr><td>&quot;City to Macarthur via Airport or Sydenham&quot;</td><td>1941</td></tr><tr><td>&quot;Macarthur to City via Airport or Sydenham&quot;</td><td>1904</td></tr><tr><td>&quot;Bondi Junction to Waterfall or Cronulla&quot;</td><td>1837</td></tr></tbody></table></div>"
      ],
      "text/plain": [
       "shape: (10, 2)\n",
       "┌───────────────────────────────────────────┬───────┐\n",
       "│ route_direction                           ┆ count │\n",
       "│ ---                                       ┆ ---   │\n",
       "│ str                                       ┆ u32   │\n",
       "╞═══════════════════════════════════════════╪═══════╡\n",
       "│ City to Berowra via Gordon                ┆ 2989  │\n",
       "│ Hornsby to Gordon via Strathfield         ┆ 2453  │\n",
       "│ City to Parramatta or Leppington          ┆ 2229  │\n",
       "│ Parramatta or Leppington to City          ┆ 2222  │\n",
       "│ …                                         ┆ …     │\n",
       "│ Berowra to City via Gordon                ┆ 2060  │\n",
       "│ City to Macarthur via Airport or Sydenham ┆ 1941  │\n",
       "│ Macarthur to City via Airport or Sydenham ┆ 1904  │\n",
       "│ Bondi Junction to Waterfall or Cronulla   ┆ 1837  │\n",
       "└───────────────────────────────────────────┴───────┘"
      ]
     },
     "execution_count": 9,
     "metadata": {},
     "output_type": "execute_result"
    }
   ],
   "source": [
    "df_pl.groupby(\"route_direction\").count().sort(\"count\", descending=True).head(10)"
   ]
  },
  {
   "cell_type": "markdown",
   "metadata": {},
   "source": [
    "## Outputs"
   ]
  },
  {
   "cell_type": "code",
   "execution_count": 10,
   "metadata": {},
   "outputs": [],
   "source": [
    "# Imports usually go at the top of the file\n",
    "# This is included here for ease of reference\n",
    "import plotly.express as px"
   ]
  },
  {
   "cell_type": "code",
   "execution_count": 22,
   "metadata": {},
   "outputs": [
    {
     "data": {
      "application/vnd.plotly.v1+json": {
       "config": {
        "plotlyServerURL": "https://plot.ly"
       },
       "data": [
        {
         "alignmentgroup": "True",
         "hovertemplate": "variable=0<br>value=%{x}<br>route_direction=%{y}<extra></extra>",
         "legendgroup": "0",
         "marker": {
          "color": "#636efa",
          "pattern": {
           "shape": ""
          }
         },
         "name": "0",
         "offsetgroup": "0",
         "orientation": "h",
         "showlegend": true,
         "textposition": "auto",
         "type": "bar",
         "x": [
          2989,
          2453,
          2229,
          2222,
          2129,
          2088,
          2060,
          1941,
          1904,
          1837,
          1804,
          1787,
          1572,
          1522,
          1419,
          1415,
          1249,
          1243,
          733,
          731
         ],
         "xaxis": "x",
         "y": [
          "City to Berowra via Gordon",
          "Hornsby to Gordon via Strathfield",
          "City to Parramatta or Leppington",
          "Parramatta or Leppington to City",
          "City to Emu Plains or Richmond",
          "Emu Plains or Richmond to City",
          "Berowra to City via Gordon",
          "City to Macarthur via Airport or Sydenham",
          "Macarthur to City via Airport or Sydenham",
          "Bondi Junction to Waterfall or Cronulla",
          "Waterfall or Cronulla to Bondi Junction",
          "City to Liverpool or Lidcombe via Bankstown",
          "Liverpool or Lidcombe to City via Bankstown",
          "Gordon to Hornsby via Strathfield",
          "Olympic Park to Lidcombe",
          "Lidcombe to Olympic Park",
          "Central to Dulwich Hill",
          "Dulwich Hill to Central",
          "Bondi Junction and Central to Bomaderry or Port Kembla",
          "Newcastle to Central via Strathfield or Gordon"
         ],
         "yaxis": "y"
        }
       ],
       "layout": {
        "barmode": "relative",
        "legend": {
         "title": {
          "text": "variable"
         },
         "tracegroupgap": 0
        },
        "margin": {
         "t": 60
        },
        "showlegend": false,
        "template": {
         "data": {
          "bar": [
           {
            "error_x": {
             "color": "#2a3f5f"
            },
            "error_y": {
             "color": "#2a3f5f"
            },
            "marker": {
             "line": {
              "color": "#E5ECF6",
              "width": 0.5
             },
             "pattern": {
              "fillmode": "overlay",
              "size": 10,
              "solidity": 0.2
             }
            },
            "type": "bar"
           }
          ],
          "barpolar": [
           {
            "marker": {
             "line": {
              "color": "#E5ECF6",
              "width": 0.5
             },
             "pattern": {
              "fillmode": "overlay",
              "size": 10,
              "solidity": 0.2
             }
            },
            "type": "barpolar"
           }
          ],
          "carpet": [
           {
            "aaxis": {
             "endlinecolor": "#2a3f5f",
             "gridcolor": "white",
             "linecolor": "white",
             "minorgridcolor": "white",
             "startlinecolor": "#2a3f5f"
            },
            "baxis": {
             "endlinecolor": "#2a3f5f",
             "gridcolor": "white",
             "linecolor": "white",
             "minorgridcolor": "white",
             "startlinecolor": "#2a3f5f"
            },
            "type": "carpet"
           }
          ],
          "choropleth": [
           {
            "colorbar": {
             "outlinewidth": 0,
             "ticks": ""
            },
            "type": "choropleth"
           }
          ],
          "contour": [
           {
            "colorbar": {
             "outlinewidth": 0,
             "ticks": ""
            },
            "colorscale": [
             [
              0,
              "#0d0887"
             ],
             [
              0.1111111111111111,
              "#46039f"
             ],
             [
              0.2222222222222222,
              "#7201a8"
             ],
             [
              0.3333333333333333,
              "#9c179e"
             ],
             [
              0.4444444444444444,
              "#bd3786"
             ],
             [
              0.5555555555555556,
              "#d8576b"
             ],
             [
              0.6666666666666666,
              "#ed7953"
             ],
             [
              0.7777777777777778,
              "#fb9f3a"
             ],
             [
              0.8888888888888888,
              "#fdca26"
             ],
             [
              1,
              "#f0f921"
             ]
            ],
            "type": "contour"
           }
          ],
          "contourcarpet": [
           {
            "colorbar": {
             "outlinewidth": 0,
             "ticks": ""
            },
            "type": "contourcarpet"
           }
          ],
          "heatmap": [
           {
            "colorbar": {
             "outlinewidth": 0,
             "ticks": ""
            },
            "colorscale": [
             [
              0,
              "#0d0887"
             ],
             [
              0.1111111111111111,
              "#46039f"
             ],
             [
              0.2222222222222222,
              "#7201a8"
             ],
             [
              0.3333333333333333,
              "#9c179e"
             ],
             [
              0.4444444444444444,
              "#bd3786"
             ],
             [
              0.5555555555555556,
              "#d8576b"
             ],
             [
              0.6666666666666666,
              "#ed7953"
             ],
             [
              0.7777777777777778,
              "#fb9f3a"
             ],
             [
              0.8888888888888888,
              "#fdca26"
             ],
             [
              1,
              "#f0f921"
             ]
            ],
            "type": "heatmap"
           }
          ],
          "heatmapgl": [
           {
            "colorbar": {
             "outlinewidth": 0,
             "ticks": ""
            },
            "colorscale": [
             [
              0,
              "#0d0887"
             ],
             [
              0.1111111111111111,
              "#46039f"
             ],
             [
              0.2222222222222222,
              "#7201a8"
             ],
             [
              0.3333333333333333,
              "#9c179e"
             ],
             [
              0.4444444444444444,
              "#bd3786"
             ],
             [
              0.5555555555555556,
              "#d8576b"
             ],
             [
              0.6666666666666666,
              "#ed7953"
             ],
             [
              0.7777777777777778,
              "#fb9f3a"
             ],
             [
              0.8888888888888888,
              "#fdca26"
             ],
             [
              1,
              "#f0f921"
             ]
            ],
            "type": "heatmapgl"
           }
          ],
          "histogram": [
           {
            "marker": {
             "pattern": {
              "fillmode": "overlay",
              "size": 10,
              "solidity": 0.2
             }
            },
            "type": "histogram"
           }
          ],
          "histogram2d": [
           {
            "colorbar": {
             "outlinewidth": 0,
             "ticks": ""
            },
            "colorscale": [
             [
              0,
              "#0d0887"
             ],
             [
              0.1111111111111111,
              "#46039f"
             ],
             [
              0.2222222222222222,
              "#7201a8"
             ],
             [
              0.3333333333333333,
              "#9c179e"
             ],
             [
              0.4444444444444444,
              "#bd3786"
             ],
             [
              0.5555555555555556,
              "#d8576b"
             ],
             [
              0.6666666666666666,
              "#ed7953"
             ],
             [
              0.7777777777777778,
              "#fb9f3a"
             ],
             [
              0.8888888888888888,
              "#fdca26"
             ],
             [
              1,
              "#f0f921"
             ]
            ],
            "type": "histogram2d"
           }
          ],
          "histogram2dcontour": [
           {
            "colorbar": {
             "outlinewidth": 0,
             "ticks": ""
            },
            "colorscale": [
             [
              0,
              "#0d0887"
             ],
             [
              0.1111111111111111,
              "#46039f"
             ],
             [
              0.2222222222222222,
              "#7201a8"
             ],
             [
              0.3333333333333333,
              "#9c179e"
             ],
             [
              0.4444444444444444,
              "#bd3786"
             ],
             [
              0.5555555555555556,
              "#d8576b"
             ],
             [
              0.6666666666666666,
              "#ed7953"
             ],
             [
              0.7777777777777778,
              "#fb9f3a"
             ],
             [
              0.8888888888888888,
              "#fdca26"
             ],
             [
              1,
              "#f0f921"
             ]
            ],
            "type": "histogram2dcontour"
           }
          ],
          "mesh3d": [
           {
            "colorbar": {
             "outlinewidth": 0,
             "ticks": ""
            },
            "type": "mesh3d"
           }
          ],
          "parcoords": [
           {
            "line": {
             "colorbar": {
              "outlinewidth": 0,
              "ticks": ""
             }
            },
            "type": "parcoords"
           }
          ],
          "pie": [
           {
            "automargin": true,
            "type": "pie"
           }
          ],
          "scatter": [
           {
            "fillpattern": {
             "fillmode": "overlay",
             "size": 10,
             "solidity": 0.2
            },
            "type": "scatter"
           }
          ],
          "scatter3d": [
           {
            "line": {
             "colorbar": {
              "outlinewidth": 0,
              "ticks": ""
             }
            },
            "marker": {
             "colorbar": {
              "outlinewidth": 0,
              "ticks": ""
             }
            },
            "type": "scatter3d"
           }
          ],
          "scattercarpet": [
           {
            "marker": {
             "colorbar": {
              "outlinewidth": 0,
              "ticks": ""
             }
            },
            "type": "scattercarpet"
           }
          ],
          "scattergeo": [
           {
            "marker": {
             "colorbar": {
              "outlinewidth": 0,
              "ticks": ""
             }
            },
            "type": "scattergeo"
           }
          ],
          "scattergl": [
           {
            "marker": {
             "colorbar": {
              "outlinewidth": 0,
              "ticks": ""
             }
            },
            "type": "scattergl"
           }
          ],
          "scattermapbox": [
           {
            "marker": {
             "colorbar": {
              "outlinewidth": 0,
              "ticks": ""
             }
            },
            "type": "scattermapbox"
           }
          ],
          "scatterpolar": [
           {
            "marker": {
             "colorbar": {
              "outlinewidth": 0,
              "ticks": ""
             }
            },
            "type": "scatterpolar"
           }
          ],
          "scatterpolargl": [
           {
            "marker": {
             "colorbar": {
              "outlinewidth": 0,
              "ticks": ""
             }
            },
            "type": "scatterpolargl"
           }
          ],
          "scatterternary": [
           {
            "marker": {
             "colorbar": {
              "outlinewidth": 0,
              "ticks": ""
             }
            },
            "type": "scatterternary"
           }
          ],
          "surface": [
           {
            "colorbar": {
             "outlinewidth": 0,
             "ticks": ""
            },
            "colorscale": [
             [
              0,
              "#0d0887"
             ],
             [
              0.1111111111111111,
              "#46039f"
             ],
             [
              0.2222222222222222,
              "#7201a8"
             ],
             [
              0.3333333333333333,
              "#9c179e"
             ],
             [
              0.4444444444444444,
              "#bd3786"
             ],
             [
              0.5555555555555556,
              "#d8576b"
             ],
             [
              0.6666666666666666,
              "#ed7953"
             ],
             [
              0.7777777777777778,
              "#fb9f3a"
             ],
             [
              0.8888888888888888,
              "#fdca26"
             ],
             [
              1,
              "#f0f921"
             ]
            ],
            "type": "surface"
           }
          ],
          "table": [
           {
            "cells": {
             "fill": {
              "color": "#EBF0F8"
             },
             "line": {
              "color": "white"
             }
            },
            "header": {
             "fill": {
              "color": "#C8D4E3"
             },
             "line": {
              "color": "white"
             }
            },
            "type": "table"
           }
          ]
         },
         "layout": {
          "annotationdefaults": {
           "arrowcolor": "#2a3f5f",
           "arrowhead": 0,
           "arrowwidth": 1
          },
          "autotypenumbers": "strict",
          "coloraxis": {
           "colorbar": {
            "outlinewidth": 0,
            "ticks": ""
           }
          },
          "colorscale": {
           "diverging": [
            [
             0,
             "#8e0152"
            ],
            [
             0.1,
             "#c51b7d"
            ],
            [
             0.2,
             "#de77ae"
            ],
            [
             0.3,
             "#f1b6da"
            ],
            [
             0.4,
             "#fde0ef"
            ],
            [
             0.5,
             "#f7f7f7"
            ],
            [
             0.6,
             "#e6f5d0"
            ],
            [
             0.7,
             "#b8e186"
            ],
            [
             0.8,
             "#7fbc41"
            ],
            [
             0.9,
             "#4d9221"
            ],
            [
             1,
             "#276419"
            ]
           ],
           "sequential": [
            [
             0,
             "#0d0887"
            ],
            [
             0.1111111111111111,
             "#46039f"
            ],
            [
             0.2222222222222222,
             "#7201a8"
            ],
            [
             0.3333333333333333,
             "#9c179e"
            ],
            [
             0.4444444444444444,
             "#bd3786"
            ],
            [
             0.5555555555555556,
             "#d8576b"
            ],
            [
             0.6666666666666666,
             "#ed7953"
            ],
            [
             0.7777777777777778,
             "#fb9f3a"
            ],
            [
             0.8888888888888888,
             "#fdca26"
            ],
            [
             1,
             "#f0f921"
            ]
           ],
           "sequentialminus": [
            [
             0,
             "#0d0887"
            ],
            [
             0.1111111111111111,
             "#46039f"
            ],
            [
             0.2222222222222222,
             "#7201a8"
            ],
            [
             0.3333333333333333,
             "#9c179e"
            ],
            [
             0.4444444444444444,
             "#bd3786"
            ],
            [
             0.5555555555555556,
             "#d8576b"
            ],
            [
             0.6666666666666666,
             "#ed7953"
            ],
            [
             0.7777777777777778,
             "#fb9f3a"
            ],
            [
             0.8888888888888888,
             "#fdca26"
            ],
            [
             1,
             "#f0f921"
            ]
           ]
          },
          "colorway": [
           "#636efa",
           "#EF553B",
           "#00cc96",
           "#ab63fa",
           "#FFA15A",
           "#19d3f3",
           "#FF6692",
           "#B6E880",
           "#FF97FF",
           "#FECB52"
          ],
          "font": {
           "color": "#2a3f5f"
          },
          "geo": {
           "bgcolor": "white",
           "lakecolor": "white",
           "landcolor": "#E5ECF6",
           "showlakes": true,
           "showland": true,
           "subunitcolor": "white"
          },
          "hoverlabel": {
           "align": "left"
          },
          "hovermode": "closest",
          "mapbox": {
           "style": "light"
          },
          "paper_bgcolor": "white",
          "plot_bgcolor": "#E5ECF6",
          "polar": {
           "angularaxis": {
            "gridcolor": "white",
            "linecolor": "white",
            "ticks": ""
           },
           "bgcolor": "#E5ECF6",
           "radialaxis": {
            "gridcolor": "white",
            "linecolor": "white",
            "ticks": ""
           }
          },
          "scene": {
           "xaxis": {
            "backgroundcolor": "#E5ECF6",
            "gridcolor": "white",
            "gridwidth": 2,
            "linecolor": "white",
            "showbackground": true,
            "ticks": "",
            "zerolinecolor": "white"
           },
           "yaxis": {
            "backgroundcolor": "#E5ECF6",
            "gridcolor": "white",
            "gridwidth": 2,
            "linecolor": "white",
            "showbackground": true,
            "ticks": "",
            "zerolinecolor": "white"
           },
           "zaxis": {
            "backgroundcolor": "#E5ECF6",
            "gridcolor": "white",
            "gridwidth": 2,
            "linecolor": "white",
            "showbackground": true,
            "ticks": "",
            "zerolinecolor": "white"
           }
          },
          "shapedefaults": {
           "line": {
            "color": "#2a3f5f"
           }
          },
          "ternary": {
           "aaxis": {
            "gridcolor": "white",
            "linecolor": "white",
            "ticks": ""
           },
           "baxis": {
            "gridcolor": "white",
            "linecolor": "white",
            "ticks": ""
           },
           "bgcolor": "#E5ECF6",
           "caxis": {
            "gridcolor": "white",
            "linecolor": "white",
            "ticks": ""
           }
          },
          "title": {
           "x": 0.05
          },
          "xaxis": {
           "automargin": true,
           "gridcolor": "white",
           "linecolor": "white",
           "ticks": "",
           "title": {
            "standoff": 15
           },
           "zerolinecolor": "white",
           "zerolinewidth": 2
          },
          "yaxis": {
           "automargin": true,
           "gridcolor": "white",
           "linecolor": "white",
           "ticks": "",
           "title": {
            "standoff": 15
           },
           "zerolinecolor": "white",
           "zerolinewidth": 2
          }
         }
        },
        "title": {
         "text": "Top 20 routes by number of rows"
        },
        "width": 800,
        "xaxis": {
         "anchor": "y",
         "domain": [
          0,
          1
         ],
         "title": {
          "text": ""
         }
        },
        "yaxis": {
         "anchor": "x",
         "autorange": "reversed",
         "domain": [
          0,
          1
         ],
         "title": {
          "text": ""
         }
        }
       }
      }
     },
     "metadata": {},
     "output_type": "display_data"
    }
   ],
   "source": [
    "fig = df_pd.groupby(\"route_direction\").size().sort_values(ascending=False).head(20).plot(\n",
    "    kind='bar', orientation='h', width=800\n",
    ")\n",
    "fig.update_layout(title=\"Top 20 routes by number of rows\", showlegend=False)\n",
    "fig.update_xaxes(title=\"\")\n",
    "fig.update_yaxes(title=\"\", autorange=\"reversed\")"
   ]
  },
  {
   "cell_type": "code",
   "execution_count": null,
   "metadata": {},
   "outputs": [],
   "source": []
  }
 ],
 "metadata": {
  "kernelspec": {
   "display_name": "Python 3",
   "language": "python",
   "name": "python3"
  },
  "language_info": {
   "codemirror_mode": {
    "name": "ipython",
    "version": 3
   },
   "file_extension": ".py",
   "mimetype": "text/x-python",
   "name": "python",
   "nbconvert_exporter": "python",
   "pygments_lexer": "ipython3",
   "version": "3.11.4"
  },
  "orig_nbformat": 4
 },
 "nbformat": 4,
 "nbformat_minor": 2
}
