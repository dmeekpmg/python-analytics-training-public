{
 "cells": [
  {
   "cell_type": "markdown",
   "metadata": {},
   "source": [
    "# Prototype of API connection\n",
    "\n",
    "https://medium.com/@bhaveshpatelaus/gtfs-realtime-vehicle-positions-using-python-and-databricks-tfnsw-a33b98f22e97"
   ]
  },
  {
   "cell_type": "code",
   "execution_count": 2,
   "metadata": {},
   "outputs": [
    {
     "data": {
      "text/plain": [
       "True"
      ]
     },
     "execution_count": 2,
     "metadata": {},
     "output_type": "execute_result"
    }
   ],
   "source": [
    "import os\n",
    "from dotenv import load_dotenv\n",
    "import requests\n",
    "from pathlib import Path\n",
    "import zipfile\n",
    "import pandas as pd\n",
    "\n",
    "from google.transit import gtfs_realtime_pb2\n",
    "from google.transit import gtfs_realtime_pb2\n",
    "from google.protobuf.json_format import MessageToDict\n",
    "from google.protobuf.json_format import MessageToJson\n",
    "\n",
    "from collections import OrderedDict\n",
    "from protobuf_to_dict import protobuf_to_dict\n",
    "\n",
    "from data import data\n",
    "\n",
    "load_dotenv()"
   ]
  },
  {
   "cell_type": "code",
   "execution_count": 3,
   "metadata": {},
   "outputs": [],
   "source": [
    "FILENAME_SCHEDULE = 'gtfs.zip'"
   ]
  },
  {
   "cell_type": "code",
   "execution_count": 4,
   "metadata": {},
   "outputs": [],
   "source": [
    "app_name = os.getenv(\"APP_NAME\")\n",
    "api_key = os.getenv(\"API_KEY\")"
   ]
  },
  {
   "cell_type": "code",
   "execution_count": 5,
   "metadata": {},
   "outputs": [],
   "source": [
    "BASE_URL = \"https://api.transport.nsw.gov.au\"\n",
    "BUS_POSITION_URI = f\"{BASE_URL}/v1/gtfs/vehiclepos/buses\"\n",
    "BUS_SCHEDULE_URI = f\"{BASE_URL}/v1/gtfs/schedule/buses\"\n",
    "FERRY_POSITION = f\"{BASE_URL}/v1/gtfs/historical\""
   ]
  },
  {
   "cell_type": "code",
   "execution_count": 6,
   "metadata": {},
   "outputs": [],
   "source": [
    "headers = {\n",
    "    \"Authorization\": f\"apikey {api_key}\"\n",
    "}\n",
    "request_details = dict(\n",
    "    headers=headers,\n",
    "    stream=True\n",
    ")\n",
    "if cert:=os.getenv(\"CERT\", None) is not None:\n",
    "    request_details['verify'] = cert"
   ]
  },
  {
   "cell_type": "markdown",
   "metadata": {},
   "source": [
    "## Extract schedules"
   ]
  },
  {
   "cell_type": "code",
   "execution_count": 53,
   "metadata": {},
   "outputs": [],
   "source": [
    "response = requests.get(BUS_SCHEDULE_URI, **request_details)\n",
    "response"
   ]
  },
  {
   "cell_type": "code",
   "execution_count": 66,
   "metadata": {},
   "outputs": [],
   "source": [
    "zip_path = Path(data.path / FILENAME_SCHEDULE)"
   ]
  },
  {
   "cell_type": "code",
   "execution_count": 62,
   "metadata": {},
   "outputs": [],
   "source": [
    "with open(zip_path, \"wb\") as f:\n",
    "    f.write(response.content)"
   ]
  },
  {
   "cell_type": "code",
   "execution_count": 68,
   "metadata": {},
   "outputs": [
    {
     "name": "stdout",
     "output_type": "stream",
     "text": [
      "['agency.txt', 'calendar.txt', 'calendar_dates.txt', 'notes.txt', 'routes.txt', 'shapes.txt', 'stops.txt', 'stop_times.txt', 'trips.txt']\n"
     ]
    }
   ],
   "source": [
    "with zipfile.ZipFile(zip_path) as zip:\n",
    "    print(zip.namelist())"
   ]
  },
  {
   "cell_type": "code",
   "execution_count": 73,
   "metadata": {},
   "outputs": [
    {
     "name": "stdout",
     "output_type": "stream",
     "text": [
      "   shape_id  shape_pt_lat  shape_pt_lon  shape_pt_sequence  \\\n",
      "0       177    -33.418715    151.341307                  1   \n",
      "1       177    -33.418708    151.341302                  2   \n",
      "2       177    -33.418686    151.341128                  3   \n",
      "3       177    -33.418567    151.340324                  4   \n",
      "4       177    -33.418519    151.339836                  5   \n",
      "\n",
      "   shape_dist_traveled  \n",
      "0                    0  \n",
      "1                    9  \n",
      "2                   25  \n",
      "3                  101  \n",
      "4                  147  \n"
     ]
    }
   ],
   "source": [
    "with zipfile.ZipFile(zip_path) as z:\n",
    "   with z.open(\"shapes.txt\") as f:\n",
    "      train = pd.read_csv(f)\n",
    "      print(train.head())    # print the first 5 rows"
   ]
  },
  {
   "cell_type": "markdown",
   "metadata": {},
   "source": [
    "## Realtime locations"
   ]
  },
  {
   "cell_type": "code",
   "execution_count": 76,
   "metadata": {},
   "outputs": [
    {
     "data": {
      "text/plain": [
       "<Response [200]>"
      ]
     },
     "execution_count": 76,
     "metadata": {},
     "output_type": "execute_result"
    }
   ],
   "source": [
    "response = requests.get(BUS_POSITION_URI, **request_details)\n",
    "response"
   ]
  },
  {
   "cell_type": "code",
   "execution_count": 77,
   "metadata": {},
   "outputs": [
    {
     "data": {
      "text/plain": [
       "94272"
      ]
     },
     "execution_count": 77,
     "metadata": {},
     "output_type": "execute_result"
    }
   ],
   "source": [
    "feed = gtfs_realtime_pb2.FeedMessage()\n",
    "feed.ParseFromString(response.content)"
   ]
  },
  {
   "cell_type": "code",
   "execution_count": 80,
   "metadata": {},
   "outputs": [
    {
     "name": "stdout",
     "output_type": "stream",
     "text": [
      "525\n"
     ]
    },
    {
     "data": {
      "text/plain": [
       "id: \"43280_232209662_2509_379_1\"\n",
       "vehicle {\n",
       "  trip {\n",
       "    trip_id: \"1778929\"\n",
       "    route_id: \"2509_379\"\n",
       "    start_time: \"22:46:00\"\n",
       "    start_date: \"20230829\"\n",
       "    schedule_relationship: SCHEDULED\n",
       "  }\n",
       "  vehicle {\n",
       "    id: \"43280_232209662_2509_379_1\"\n",
       "  }\n",
       "  position {\n",
       "    latitude: -33.9046211\n",
       "    longitude: 151.267029\n",
       "    bearing: 117\n",
       "    speed: 0\n",
       "  }\n",
       "  timestamp: 1693312898\n",
       "  congestion_level: UNKNOWN_CONGESTION_LEVEL\n",
       "  occupancy_status: MANY_SEATS_AVAILABLE\n",
       "}"
      ]
     },
     "execution_count": 80,
     "metadata": {},
     "output_type": "execute_result"
    }
   ],
   "source": [
    "print(len(feed.entity))\n",
    "feed.entity[0]"
   ]
  },
  {
   "cell_type": "code",
   "execution_count": 86,
   "metadata": {},
   "outputs": [
    {
     "data": {
      "text/plain": [
       "{'id': '43280_232209662_2509_379_1',\n",
       " 'vehicle': {'trip': {'trip_id': '1778929',\n",
       "   'start_time': '22:46:00',\n",
       "   'start_date': '20230829',\n",
       "   'schedule_relationship': 0,\n",
       "   'route_id': '2509_379'},\n",
       "  'position': {'latitude': -33.90462112426758,\n",
       "   'longitude': 151.26702880859375,\n",
       "   'bearing': 117.0,\n",
       "   'speed': 0.0},\n",
       "  'timestamp': 1693312898,\n",
       "  'congestion_level': 0,\n",
       "  'vehicle': {'id': '43280_232209662_2509_379_1'},\n",
       "  'occupancy_status': 1}}"
      ]
     },
     "execution_count": 86,
     "metadata": {},
     "output_type": "execute_result"
    }
   ],
   "source": [
    "feed.ParseFromString(response.content)\n",
    "#for entity in feed.entity:\n",
    "#    if entity.HasField('vehicle'):\n",
    "#        print(entity.vehicle)\n",
    "\n",
    "dict_obj = protobuf_to_dict(feed)\n",
    "dict_obj['entity'][0]"
   ]
  },
  {
   "cell_type": "code",
   "execution_count": 89,
   "metadata": {},
   "outputs": [],
   "source": [
    "collector = []\n",
    "counter=0\n",
    "for block in dict_obj[\"entity\"]:\n",
    "    counter += 1\n",
    "    row = OrderedDict()\n",
    "    row[\"id\"] = block[\"id\"]\n",
    "    trip = block[\"vehicle\"][\"trip\"]\n",
    "    row[\"trip_id\"] = trip.get(\"trip_id\",\"\")\n",
    "    row[\"route_id\"] = trip.get(\"route_id\",\"\")\n",
    "    row[\"schedule_relationship\"] = trip.get(\"schedule_relationship\",\"\")\n",
    "    if \"position\" in block['vehicle']:\n",
    "        row[\"latitude\"] = block[\"vehicle\"][\"position\"].get(\"latitude\",\"\")\n",
    "        row[\"longitude\"] = block[\"vehicle\"][\"position\"].get(\"longitude\",\"\")\n",
    "    else:\n",
    "        row['latitude'], row['longitude'] = None, None\n",
    "    \n",
    "    row[\"timestamp\"] = block[\"vehicle\"].get(\"timestamp\",\"\")\n",
    "    row[\"congestion_level\"] = block[\"vehicle\"].get(\"congestion_level\",\"\")\n",
    "    row[\"stop_id\"] = block[\"vehicle\"].get(\"stop_id\",\"\")\n",
    "    row[\"vehicle_id\"] = block[\"vehicle\"][\"vehicle\"].get(\"id\",\"\")\n",
    "    row[\"label\"] = block[\"vehicle\"][\"vehicle\"].get(\"label\",\"\")\n",
    "    collector.append(row)\n",
    "    df = pd.DataFrame(collector)"
   ]
  },
  {
   "cell_type": "code",
   "execution_count": 90,
   "metadata": {},
   "outputs": [
    {
     "data": {
      "text/html": [
       "<div>\n",
       "<style scoped>\n",
       "    .dataframe tbody tr th:only-of-type {\n",
       "        vertical-align: middle;\n",
       "    }\n",
       "\n",
       "    .dataframe tbody tr th {\n",
       "        vertical-align: top;\n",
       "    }\n",
       "\n",
       "    .dataframe thead th {\n",
       "        text-align: right;\n",
       "    }\n",
       "</style>\n",
       "<table border=\"1\" class=\"dataframe\">\n",
       "  <thead>\n",
       "    <tr style=\"text-align: right;\">\n",
       "      <th></th>\n",
       "      <th>id</th>\n",
       "      <th>trip_id</th>\n",
       "      <th>route_id</th>\n",
       "      <th>schedule_relationship</th>\n",
       "      <th>latitude</th>\n",
       "      <th>longitude</th>\n",
       "      <th>timestamp</th>\n",
       "      <th>congestion_level</th>\n",
       "      <th>stop_id</th>\n",
       "      <th>vehicle_id</th>\n",
       "      <th>label</th>\n",
       "    </tr>\n",
       "  </thead>\n",
       "  <tbody>\n",
       "    <tr>\n",
       "      <th>0</th>\n",
       "      <td>43280_232209662_2509_379_1</td>\n",
       "      <td>1778929</td>\n",
       "      <td>2509_379</td>\n",
       "      <td>0</td>\n",
       "      <td>-33.904621</td>\n",
       "      <td>151.267029</td>\n",
       "      <td>1693312898</td>\n",
       "      <td>0</td>\n",
       "      <td></td>\n",
       "      <td>43280_232209662_2509_379_1</td>\n",
       "      <td></td>\n",
       "    </tr>\n",
       "    <tr>\n",
       "      <th>1</th>\n",
       "      <td>3936_249346_2453_28_1</td>\n",
       "      <td>1434298</td>\n",
       "      <td>2453_28</td>\n",
       "      <td>0</td>\n",
       "      <td>-33.432343</td>\n",
       "      <td>151.341812</td>\n",
       "      <td>1693313083</td>\n",
       "      <td>1</td>\n",
       "      <td></td>\n",
       "      <td>3936_249346_2453_28_1</td>\n",
       "      <td></td>\n",
       "    </tr>\n",
       "    <tr>\n",
       "      <th>2</th>\n",
       "      <td>43280_230177416_2509_304_1</td>\n",
       "      <td>1759340</td>\n",
       "      <td>2509_304</td>\n",
       "      <td>0</td>\n",
       "      <td>-33.878521</td>\n",
       "      <td>151.210327</td>\n",
       "      <td>1693313087</td>\n",
       "      <td>1</td>\n",
       "      <td></td>\n",
       "      <td>43280_230177416_2509_304_1</td>\n",
       "      <td></td>\n",
       "    </tr>\n",
       "    <tr>\n",
       "      <th>3</th>\n",
       "      <td>33553_26250035_2436_665_1</td>\n",
       "      <td>1822328</td>\n",
       "      <td>2436_665</td>\n",
       "      <td>0</td>\n",
       "      <td>-33.713531</td>\n",
       "      <td>150.934647</td>\n",
       "      <td>1693313090</td>\n",
       "      <td>0</td>\n",
       "      <td></td>\n",
       "      <td>33553_26250035_2436_665_1</td>\n",
       "      <td></td>\n",
       "    </tr>\n",
       "    <tr>\n",
       "      <th>4</th>\n",
       "      <td>43280_231821081_2509_313_1</td>\n",
       "      <td>1597194</td>\n",
       "      <td>2509_313</td>\n",
       "      <td>0</td>\n",
       "      <td>-33.911320</td>\n",
       "      <td>151.250305</td>\n",
       "      <td>1693313082</td>\n",
       "      <td>1</td>\n",
       "      <td></td>\n",
       "      <td>43280_231821081_2509_313_1</td>\n",
       "      <td></td>\n",
       "    </tr>\n",
       "    <tr>\n",
       "      <th>...</th>\n",
       "      <td>...</td>\n",
       "      <td>...</td>\n",
       "      <td>...</td>\n",
       "      <td>...</td>\n",
       "      <td>...</td>\n",
       "      <td>...</td>\n",
       "      <td>...</td>\n",
       "      <td>...</td>\n",
       "      <td>...</td>\n",
       "      <td>...</td>\n",
       "      <td>...</td>\n",
       "    </tr>\n",
       "    <tr>\n",
       "      <th>520</th>\n",
       "      <td>12534_135684910062_2452_64_1</td>\n",
       "      <td>1910420</td>\n",
       "      <td>2452_64</td>\n",
       "      <td>0</td>\n",
       "      <td>-33.506317</td>\n",
       "      <td>151.340454</td>\n",
       "      <td>1693313090</td>\n",
       "      <td>0</td>\n",
       "      <td></td>\n",
       "      <td>12534_135684910062_2452_64_1</td>\n",
       "      <td></td>\n",
       "    </tr>\n",
       "    <tr>\n",
       "      <th>521</th>\n",
       "      <td>12534_135684931262_2452_50/3_1</td>\n",
       "      <td>1910672</td>\n",
       "      <td>2452_50/3</td>\n",
       "      <td>0</td>\n",
       "      <td>-33.421642</td>\n",
       "      <td>151.328323</td>\n",
       "      <td>1693313091</td>\n",
       "      <td>0</td>\n",
       "      <td></td>\n",
       "      <td>12534_135684931262_2452_50/3_1</td>\n",
       "      <td></td>\n",
       "    </tr>\n",
       "    <tr>\n",
       "      <th>522</th>\n",
       "      <td>12534_135683020062_2452_37_1</td>\n",
       "      <td>998980</td>\n",
       "      <td>2452_37</td>\n",
       "      <td>0</td>\n",
       "      <td>-33.418213</td>\n",
       "      <td>151.361664</td>\n",
       "      <td>1693313084</td>\n",
       "      <td>0</td>\n",
       "      <td></td>\n",
       "      <td>12534_135683020062_2452_37_1</td>\n",
       "      <td></td>\n",
       "    </tr>\n",
       "    <tr>\n",
       "      <th>523</th>\n",
       "      <td>12534_135684920062_2452_50/3_1</td>\n",
       "      <td>1978968</td>\n",
       "      <td>2452_50/3</td>\n",
       "      <td>0</td>\n",
       "      <td>-33.517666</td>\n",
       "      <td>151.317383</td>\n",
       "      <td>1693313090</td>\n",
       "      <td>0</td>\n",
       "      <td></td>\n",
       "      <td>12534_135684920062_2452_50/3_1</td>\n",
       "      <td></td>\n",
       "    </tr>\n",
       "    <tr>\n",
       "      <th>524</th>\n",
       "      <td>12534_135684100062_2452_63_1</td>\n",
       "      <td>1089823</td>\n",
       "      <td>2452_63</td>\n",
       "      <td>0</td>\n",
       "      <td>-33.478191</td>\n",
       "      <td>151.349838</td>\n",
       "      <td>1693313090</td>\n",
       "      <td>0</td>\n",
       "      <td></td>\n",
       "      <td>12534_135684100062_2452_63_1</td>\n",
       "      <td></td>\n",
       "    </tr>\n",
       "  </tbody>\n",
       "</table>\n",
       "<p>525 rows × 11 columns</p>\n",
       "</div>"
      ],
      "text/plain": [
       "                                 id  trip_id   route_id  \\\n",
       "0        43280_232209662_2509_379_1  1778929   2509_379   \n",
       "1             3936_249346_2453_28_1  1434298    2453_28   \n",
       "2        43280_230177416_2509_304_1  1759340   2509_304   \n",
       "3         33553_26250035_2436_665_1  1822328   2436_665   \n",
       "4        43280_231821081_2509_313_1  1597194   2509_313   \n",
       "..                              ...      ...        ...   \n",
       "520    12534_135684910062_2452_64_1  1910420    2452_64   \n",
       "521  12534_135684931262_2452_50/3_1  1910672  2452_50/3   \n",
       "522    12534_135683020062_2452_37_1   998980    2452_37   \n",
       "523  12534_135684920062_2452_50/3_1  1978968  2452_50/3   \n",
       "524    12534_135684100062_2452_63_1  1089823    2452_63   \n",
       "\n",
       "     schedule_relationship   latitude   longitude   timestamp  \\\n",
       "0                        0 -33.904621  151.267029  1693312898   \n",
       "1                        0 -33.432343  151.341812  1693313083   \n",
       "2                        0 -33.878521  151.210327  1693313087   \n",
       "3                        0 -33.713531  150.934647  1693313090   \n",
       "4                        0 -33.911320  151.250305  1693313082   \n",
       "..                     ...        ...         ...         ...   \n",
       "520                      0 -33.506317  151.340454  1693313090   \n",
       "521                      0 -33.421642  151.328323  1693313091   \n",
       "522                      0 -33.418213  151.361664  1693313084   \n",
       "523                      0 -33.517666  151.317383  1693313090   \n",
       "524                      0 -33.478191  151.349838  1693313090   \n",
       "\n",
       "     congestion_level stop_id                      vehicle_id label  \n",
       "0                   0              43280_232209662_2509_379_1        \n",
       "1                   1                   3936_249346_2453_28_1        \n",
       "2                   1              43280_230177416_2509_304_1        \n",
       "3                   0               33553_26250035_2436_665_1        \n",
       "4                   1              43280_231821081_2509_313_1        \n",
       "..                ...     ...                             ...   ...  \n",
       "520                 0            12534_135684910062_2452_64_1        \n",
       "521                 0          12534_135684931262_2452_50/3_1        \n",
       "522                 0            12534_135683020062_2452_37_1        \n",
       "523                 0          12534_135684920062_2452_50/3_1        \n",
       "524                 0            12534_135684100062_2452_63_1        \n",
       "\n",
       "[525 rows x 11 columns]"
      ]
     },
     "execution_count": 90,
     "metadata": {},
     "output_type": "execute_result"
    }
   ],
   "source": [
    "df"
   ]
  },
  {
   "cell_type": "code",
   "execution_count": null,
   "metadata": {},
   "outputs": [],
   "source": []
  }
 ],
 "metadata": {
  "kernelspec": {
   "display_name": "advanced_python",
   "language": "python",
   "name": "python3"
  },
  "language_info": {
   "codemirror_mode": {
    "name": "ipython",
    "version": 3
   },
   "file_extension": ".py",
   "mimetype": "text/x-python",
   "name": "python",
   "nbconvert_exporter": "python",
   "pygments_lexer": "ipython3",
   "version": "3.11.4"
  },
  "orig_nbformat": 4
 },
 "nbformat": 4,
 "nbformat_minor": 2
}
