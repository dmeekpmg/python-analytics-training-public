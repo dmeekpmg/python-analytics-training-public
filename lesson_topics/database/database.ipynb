{
 "cells": [
  {
   "cell_type": "markdown",
   "metadata": {},
   "source": [
    "# SQLAlchemy\n",
    "\n",
    "- Set up the model in data.model\n",
    "- Create the database using alembcic\n",
    "- Connect using SQLAlchemy"
   ]
  },
  {
   "cell_type": "code",
   "execution_count": 1,
   "metadata": {},
   "outputs": [],
   "source": [
    "from data.data import Session, path, engine\n",
    "from pathlib import Path\n",
    "import zipfile\n",
    "import pandas as pd\n",
    "\n",
    "from sqlalchemy import select\n",
    "\n",
    "from data.model import Shape"
   ]
  },
  {
   "cell_type": "code",
   "execution_count": 2,
   "metadata": {},
   "outputs": [],
   "source": [
    "FILENAME_SCHEDULE = 'gtfs.zip'\n",
    "zip_path = Path(path / FILENAME_SCHEDULE)"
   ]
  },
  {
   "cell_type": "code",
   "execution_count": 3,
   "metadata": {},
   "outputs": [
    {
     "data": {
      "text/html": [
       "<div>\n",
       "<style scoped>\n",
       "    .dataframe tbody tr th:only-of-type {\n",
       "        vertical-align: middle;\n",
       "    }\n",
       "\n",
       "    .dataframe tbody tr th {\n",
       "        vertical-align: top;\n",
       "    }\n",
       "\n",
       "    .dataframe thead th {\n",
       "        text-align: right;\n",
       "    }\n",
       "</style>\n",
       "<table border=\"1\" class=\"dataframe\">\n",
       "  <thead>\n",
       "    <tr style=\"text-align: right;\">\n",
       "      <th></th>\n",
       "      <th>id</th>\n",
       "      <th>lat</th>\n",
       "      <th>lon</th>\n",
       "      <th>sequence</th>\n",
       "      <th>dist_traveled</th>\n",
       "    </tr>\n",
       "  </thead>\n",
       "  <tbody>\n",
       "    <tr>\n",
       "      <th>0</th>\n",
       "      <td>177</td>\n",
       "      <td>-33.418715</td>\n",
       "      <td>151.341307</td>\n",
       "      <td>1</td>\n",
       "      <td>0</td>\n",
       "    </tr>\n",
       "    <tr>\n",
       "      <th>1</th>\n",
       "      <td>177</td>\n",
       "      <td>-33.418708</td>\n",
       "      <td>151.341302</td>\n",
       "      <td>2</td>\n",
       "      <td>9</td>\n",
       "    </tr>\n",
       "    <tr>\n",
       "      <th>2</th>\n",
       "      <td>177</td>\n",
       "      <td>-33.418686</td>\n",
       "      <td>151.341128</td>\n",
       "      <td>3</td>\n",
       "      <td>25</td>\n",
       "    </tr>\n",
       "    <tr>\n",
       "      <th>3</th>\n",
       "      <td>177</td>\n",
       "      <td>-33.418567</td>\n",
       "      <td>151.340324</td>\n",
       "      <td>4</td>\n",
       "      <td>101</td>\n",
       "    </tr>\n",
       "    <tr>\n",
       "      <th>4</th>\n",
       "      <td>177</td>\n",
       "      <td>-33.418519</td>\n",
       "      <td>151.339836</td>\n",
       "      <td>5</td>\n",
       "      <td>147</td>\n",
       "    </tr>\n",
       "  </tbody>\n",
       "</table>\n",
       "</div>"
      ],
      "text/plain": [
       "    id        lat         lon  sequence  dist_traveled\n",
       "0  177 -33.418715  151.341307         1              0\n",
       "1  177 -33.418708  151.341302         2              9\n",
       "2  177 -33.418686  151.341128         3             25\n",
       "3  177 -33.418567  151.340324         4            101\n",
       "4  177 -33.418519  151.339836         5            147"
      ]
     },
     "metadata": {},
     "output_type": "display_data"
    }
   ],
   "source": [
    "with zipfile.ZipFile(zip_path) as z:\n",
    "   with z.open(\"shapes.txt\") as f:\n",
    "      shapes = pd.read_csv(f)\n",
    "      shapes.columns = [\n",
    "         c.replace('shape_', '').replace('pt_', '') for c in shapes.columns\n",
    "      ]\n",
    "      display(shapes.head())"
   ]
  },
  {
   "cell_type": "code",
   "execution_count": 4,
   "metadata": {},
   "outputs": [
    {
     "data": {
      "text/plain": [
       "5397080"
      ]
     },
     "execution_count": 4,
     "metadata": {},
     "output_type": "execute_result"
    }
   ],
   "source": [
    "shapes.to_sql(\"shapes\", engine, if_exists=\"append\", index=False)"
   ]
  },
  {
   "cell_type": "code",
   "execution_count": 8,
   "metadata": {},
   "outputs": [],
   "source": [
    "with Session() as session:\n",
    "    statement = select(Shape).limit(5)\n",
    "    shapes = session.execute(statement).scalars().all()"
   ]
  },
  {
   "cell_type": "code",
   "execution_count": 9,
   "metadata": {},
   "outputs": [
    {
     "data": {
      "text/plain": [
       "[Shape(id=177, lat=-33.4187155, lon=151.3413069, sequence=1, dist_traveled=0),\n",
       " Shape(id=177, lat=-33.4187082, lon=151.3413018, sequence=2, dist_traveled=9),\n",
       " Shape(id=177, lat=-33.4186861, lon=151.341128, sequence=3, dist_traveled=25),\n",
       " Shape(id=177, lat=-33.4185671, lon=151.3403237, sequence=4, dist_traveled=101),\n",
       " Shape(id=177, lat=-33.4185191, lon=151.3398364, sequence=5, dist_traveled=147)]"
      ]
     },
     "execution_count": 9,
     "metadata": {},
     "output_type": "execute_result"
    }
   ],
   "source": [
    "shapes"
   ]
  },
  {
   "cell_type": "code",
   "execution_count": 10,
   "metadata": {},
   "outputs": [
    {
     "data": {
      "text/plain": [
       "-33.4187155"
      ]
     },
     "execution_count": 10,
     "metadata": {},
     "output_type": "execute_result"
    }
   ],
   "source": [
    "shapes[0].lat"
   ]
  },
  {
   "cell_type": "code",
   "execution_count": null,
   "metadata": {},
   "outputs": [],
   "source": []
  }
 ],
 "metadata": {
  "kernelspec": {
   "display_name": "advanced_python",
   "language": "python",
   "name": "python3"
  },
  "language_info": {
   "codemirror_mode": {
    "name": "ipython",
    "version": 3
   },
   "file_extension": ".py",
   "mimetype": "text/x-python",
   "name": "python",
   "nbconvert_exporter": "python",
   "pygments_lexer": "ipython3",
   "version": "3.11.4"
  },
  "orig_nbformat": 4
 },
 "nbformat": 4,
 "nbformat_minor": 2
}
